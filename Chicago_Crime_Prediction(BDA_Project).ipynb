{
  "cells": [
    {
      "cell_type": "code",
      "execution_count": null,
      "metadata": {
        "colab": {
          "base_uri": "https://localhost:8080/"
        },
        "id": "8pkGwn3XlAlF",
        "outputId": "25a0733f-e2ed-4da2-b9f8-365014b9642a"
      },
      "outputs": [
        {
          "name": "stderr",
          "output_type": "stream",
          "text": [
            "<ipython-input-6-c56a4f165363>:5: MatplotlibDeprecationWarning: The seaborn styles shipped by Matplotlib are deprecated since 3.6, as they no longer correspond to the styles shipped by seaborn. However, they will remain available as 'seaborn-v0_8-<style>'. Alternatively, directly use the seaborn API instead.\n",
            "  plt.style.use('seaborn')\n"
          ]
        }
      ],
      "source": [
        "import numpy as np\n",
        "import pandas as pd\n",
        "import matplotlib.pyplot as plt\n",
        "%matplotlib inline\n",
        "plt.style.use('seaborn')\n",
        "pd.set_option('display.max_columns', None)"
      ]
    },
    {
      "cell_type": "code",
      "execution_count": null,
      "metadata": {
        "colab": {
          "base_uri": "https://localhost:8080/"
        },
        "id": "akWZLEzIWn0J",
        "outputId": "0eeb32ad-d19b-4bbe-cec8-4af50896ef80"
      },
      "outputs": [
        {
          "name": "stdout",
          "output_type": "stream",
          "text": [
            "Drive already mounted at /content/drive; to attempt to forcibly remount, call drive.mount(\"/content/drive\", force_remount=True).\n"
          ]
        }
      ],
      "source": [
        "from google.colab import drive\n",
        "drive.mount('/content/drive')"
      ]
    },
    {
      "cell_type": "code",
      "execution_count": null,
      "metadata": {
        "id": "XtVqGPDDWxtQ"
      },
      "outputs": [],
      "source": [
        "crimes = pd.read_csv('/content/drive/MyDrive/bda/chicago_crime_dataset_bda.csv')"
      ]
    },
    {
      "cell_type": "code",
      "execution_count": null,
      "metadata": {
        "colab": {
          "base_uri": "https://localhost:8080/",
          "height": 615
        },
        "id": "9a1kafrUWxvY",
        "outputId": "326b90cd-6566-4ed9-d442-474391204fcd"
      },
      "outputs": [
        {
          "data": {
            "application/vnd.google.colaboratory.intrinsic+json": {
              "type": "dataframe",
              "variable_name": "crimes"
            },
            "text/html": [
              "\n",
              "  <div id=\"df-1a684242-a0f8-42bb-85a7-18cf2c9402a3\" class=\"colab-df-container\">\n",
              "    <div>\n",
              "<style scoped>\n",
              "    .dataframe tbody tr th:only-of-type {\n",
              "        vertical-align: middle;\n",
              "    }\n",
              "\n",
              "    .dataframe tbody tr th {\n",
              "        vertical-align: top;\n",
              "    }\n",
              "\n",
              "    .dataframe thead th {\n",
              "        text-align: right;\n",
              "    }\n",
              "</style>\n",
              "<table border=\"1\" class=\"dataframe\">\n",
              "  <thead>\n",
              "    <tr style=\"text-align: right;\">\n",
              "      <th></th>\n",
              "      <th>ID</th>\n",
              "      <th>Case Number</th>\n",
              "      <th>Date</th>\n",
              "      <th>Block</th>\n",
              "      <th>IUCR</th>\n",
              "      <th>Primary Type</th>\n",
              "      <th>Description</th>\n",
              "      <th>Location Description</th>\n",
              "      <th>Arrest</th>\n",
              "      <th>Domestic</th>\n",
              "      <th>Beat</th>\n",
              "      <th>District</th>\n",
              "      <th>Ward</th>\n",
              "      <th>Community Area</th>\n",
              "      <th>FBI Code</th>\n",
              "      <th>X Coordinate</th>\n",
              "      <th>Y Coordinate</th>\n",
              "      <th>Year</th>\n",
              "      <th>Updated On</th>\n",
              "      <th>Latitude</th>\n",
              "      <th>Longitude</th>\n",
              "      <th>Location</th>\n",
              "    </tr>\n",
              "  </thead>\n",
              "  <tbody>\n",
              "    <tr>\n",
              "      <th>0</th>\n",
              "      <td>11037294</td>\n",
              "      <td>JA371270</td>\n",
              "      <td>03/18/2015 12:00:00 PM</td>\n",
              "      <td>0000X W WACKER DR</td>\n",
              "      <td>1153</td>\n",
              "      <td>DECEPTIVE PRACTICE</td>\n",
              "      <td>FINANCIAL IDENTITY THEFT OVER $ 300</td>\n",
              "      <td>BANK</td>\n",
              "      <td>False</td>\n",
              "      <td>False</td>\n",
              "      <td>111</td>\n",
              "      <td>1.0</td>\n",
              "      <td>42.0</td>\n",
              "      <td>32.0</td>\n",
              "      <td>11</td>\n",
              "      <td>NaN</td>\n",
              "      <td>NaN</td>\n",
              "      <td>2015</td>\n",
              "      <td>08/01/2017 03:52:26 PM</td>\n",
              "      <td>NaN</td>\n",
              "      <td>NaN</td>\n",
              "      <td>NaN</td>\n",
              "    </tr>\n",
              "    <tr>\n",
              "      <th>1</th>\n",
              "      <td>11646293</td>\n",
              "      <td>JC213749</td>\n",
              "      <td>12/20/2018 03:00:00 PM</td>\n",
              "      <td>023XX N LOCKWOOD AVE</td>\n",
              "      <td>1154</td>\n",
              "      <td>DECEPTIVE PRACTICE</td>\n",
              "      <td>FINANCIAL IDENTITY THEFT $300 AND UNDER</td>\n",
              "      <td>APARTMENT</td>\n",
              "      <td>False</td>\n",
              "      <td>False</td>\n",
              "      <td>2515</td>\n",
              "      <td>25.0</td>\n",
              "      <td>36.0</td>\n",
              "      <td>19.0</td>\n",
              "      <td>11</td>\n",
              "      <td>NaN</td>\n",
              "      <td>NaN</td>\n",
              "      <td>2018</td>\n",
              "      <td>04/06/2019 04:04:43 PM</td>\n",
              "      <td>NaN</td>\n",
              "      <td>NaN</td>\n",
              "      <td>NaN</td>\n",
              "    </tr>\n",
              "    <tr>\n",
              "      <th>2</th>\n",
              "      <td>11645836</td>\n",
              "      <td>JC212333</td>\n",
              "      <td>05/01/2016 12:25:00 AM</td>\n",
              "      <td>055XX S ROCKWELL ST</td>\n",
              "      <td>1153</td>\n",
              "      <td>DECEPTIVE PRACTICE</td>\n",
              "      <td>FINANCIAL IDENTITY THEFT OVER $ 300</td>\n",
              "      <td>NaN</td>\n",
              "      <td>False</td>\n",
              "      <td>False</td>\n",
              "      <td>824</td>\n",
              "      <td>8.0</td>\n",
              "      <td>15.0</td>\n",
              "      <td>63.0</td>\n",
              "      <td>11</td>\n",
              "      <td>NaN</td>\n",
              "      <td>NaN</td>\n",
              "      <td>2016</td>\n",
              "      <td>04/06/2019 04:04:43 PM</td>\n",
              "      <td>NaN</td>\n",
              "      <td>NaN</td>\n",
              "      <td>NaN</td>\n",
              "    </tr>\n",
              "    <tr>\n",
              "      <th>3</th>\n",
              "      <td>11645959</td>\n",
              "      <td>JC211511</td>\n",
              "      <td>12/20/2018 04:00:00 PM</td>\n",
              "      <td>045XX N ALBANY AVE</td>\n",
              "      <td>2820</td>\n",
              "      <td>OTHER OFFENSE</td>\n",
              "      <td>TELEPHONE THREAT</td>\n",
              "      <td>RESIDENCE</td>\n",
              "      <td>False</td>\n",
              "      <td>False</td>\n",
              "      <td>1724</td>\n",
              "      <td>17.0</td>\n",
              "      <td>33.0</td>\n",
              "      <td>14.0</td>\n",
              "      <td>08A</td>\n",
              "      <td>NaN</td>\n",
              "      <td>NaN</td>\n",
              "      <td>2018</td>\n",
              "      <td>04/06/2019 04:04:43 PM</td>\n",
              "      <td>NaN</td>\n",
              "      <td>NaN</td>\n",
              "      <td>NaN</td>\n",
              "    </tr>\n",
              "    <tr>\n",
              "      <th>4</th>\n",
              "      <td>11645601</td>\n",
              "      <td>JC212935</td>\n",
              "      <td>06/01/2014 12:01:00 AM</td>\n",
              "      <td>087XX S SANGAMON ST</td>\n",
              "      <td>1153</td>\n",
              "      <td>DECEPTIVE PRACTICE</td>\n",
              "      <td>FINANCIAL IDENTITY THEFT OVER $ 300</td>\n",
              "      <td>RESIDENCE</td>\n",
              "      <td>False</td>\n",
              "      <td>False</td>\n",
              "      <td>2222</td>\n",
              "      <td>22.0</td>\n",
              "      <td>21.0</td>\n",
              "      <td>71.0</td>\n",
              "      <td>11</td>\n",
              "      <td>NaN</td>\n",
              "      <td>NaN</td>\n",
              "      <td>2014</td>\n",
              "      <td>04/06/2019 04:04:43 PM</td>\n",
              "      <td>NaN</td>\n",
              "      <td>NaN</td>\n",
              "      <td>NaN</td>\n",
              "    </tr>\n",
              "    <tr>\n",
              "      <th>...</th>\n",
              "      <td>...</td>\n",
              "      <td>...</td>\n",
              "      <td>...</td>\n",
              "      <td>...</td>\n",
              "      <td>...</td>\n",
              "      <td>...</td>\n",
              "      <td>...</td>\n",
              "      <td>...</td>\n",
              "      <td>...</td>\n",
              "      <td>...</td>\n",
              "      <td>...</td>\n",
              "      <td>...</td>\n",
              "      <td>...</td>\n",
              "      <td>...</td>\n",
              "      <td>...</td>\n",
              "      <td>...</td>\n",
              "      <td>...</td>\n",
              "      <td>...</td>\n",
              "      <td>...</td>\n",
              "      <td>...</td>\n",
              "      <td>...</td>\n",
              "      <td>...</td>\n",
              "    </tr>\n",
              "    <tr>\n",
              "      <th>8030188</th>\n",
              "      <td>12131776</td>\n",
              "      <td>JD327752</td>\n",
              "      <td>08/10/2020 08:30:00 PM</td>\n",
              "      <td>066XX S SACRAMENTO AVE</td>\n",
              "      <td>0620</td>\n",
              "      <td>BURGLARY</td>\n",
              "      <td>UNLAWFUL ENTRY</td>\n",
              "      <td>APARTMENT</td>\n",
              "      <td>False</td>\n",
              "      <td>False</td>\n",
              "      <td>831</td>\n",
              "      <td>8.0</td>\n",
              "      <td>17.0</td>\n",
              "      <td>66.0</td>\n",
              "      <td>05</td>\n",
              "      <td>1157527.0</td>\n",
              "      <td>1860392.0</td>\n",
              "      <td>2020</td>\n",
              "      <td>08/17/2020 03:41:32 PM</td>\n",
              "      <td>41.772671</td>\n",
              "      <td>-87.698104</td>\n",
              "      <td>(41.772671069, -87.698104059)</td>\n",
              "    </tr>\n",
              "    <tr>\n",
              "      <th>8030189</th>\n",
              "      <td>12082414</td>\n",
              "      <td>JD269218</td>\n",
              "      <td>06/18/2020 09:00:00 PM</td>\n",
              "      <td>093XX S DR MARTIN LUTHER KING JR DR</td>\n",
              "      <td>0820</td>\n",
              "      <td>THEFT</td>\n",
              "      <td>$500 AND UNDER</td>\n",
              "      <td>RESIDENCE</td>\n",
              "      <td>False</td>\n",
              "      <td>False</td>\n",
              "      <td>633</td>\n",
              "      <td>6.0</td>\n",
              "      <td>9.0</td>\n",
              "      <td>49.0</td>\n",
              "      <td>06</td>\n",
              "      <td>1180558.0</td>\n",
              "      <td>1843036.0</td>\n",
              "      <td>2020</td>\n",
              "      <td>06/25/2020 03:41:40 PM</td>\n",
              "      <td>41.724546</td>\n",
              "      <td>-87.614211</td>\n",
              "      <td>(41.724546436, -87.614210743)</td>\n",
              "    </tr>\n",
              "    <tr>\n",
              "      <th>8030190</th>\n",
              "      <td>12118237</td>\n",
              "      <td>JD311791</td>\n",
              "      <td>07/27/2020 03:02:00 PM</td>\n",
              "      <td>033XX W POLK ST</td>\n",
              "      <td>0486</td>\n",
              "      <td>BATTERY</td>\n",
              "      <td>DOMESTIC BATTERY SIMPLE</td>\n",
              "      <td>APARTMENT</td>\n",
              "      <td>False</td>\n",
              "      <td>True</td>\n",
              "      <td>1134</td>\n",
              "      <td>11.0</td>\n",
              "      <td>24.0</td>\n",
              "      <td>27.0</td>\n",
              "      <td>08B</td>\n",
              "      <td>1154169.0</td>\n",
              "      <td>1896171.0</td>\n",
              "      <td>2020</td>\n",
              "      <td>08/03/2020 03:41:51 PM</td>\n",
              "      <td>41.870921</td>\n",
              "      <td>-87.709461</td>\n",
              "      <td>(41.870920735, -87.709461362)</td>\n",
              "    </tr>\n",
              "    <tr>\n",
              "      <th>8030191</th>\n",
              "      <td>12142591</td>\n",
              "      <td>JD340297</td>\n",
              "      <td>08/14/2020 03:00:00 PM</td>\n",
              "      <td>023XX W ROSEMONT AVE</td>\n",
              "      <td>0910</td>\n",
              "      <td>MOTOR VEHICLE THEFT</td>\n",
              "      <td>AUTOMOBILE</td>\n",
              "      <td>STREET</td>\n",
              "      <td>False</td>\n",
              "      <td>False</td>\n",
              "      <td>2413</td>\n",
              "      <td>24.0</td>\n",
              "      <td>50.0</td>\n",
              "      <td>2.0</td>\n",
              "      <td>07</td>\n",
              "      <td>1159419.0</td>\n",
              "      <td>1941765.0</td>\n",
              "      <td>2020</td>\n",
              "      <td>08/26/2020 03:40:41 PM</td>\n",
              "      <td>41.995927</td>\n",
              "      <td>-87.688929</td>\n",
              "      <td>(41.995927389, -87.688928533)</td>\n",
              "    </tr>\n",
              "    <tr>\n",
              "      <th>8030192</th>\n",
              "      <td>12002171</td>\n",
              "      <td>JD177406</td>\n",
              "      <td>03/06/2020 02:00:00 PM</td>\n",
              "      <td>033XX N LAKEWOOD AVE</td>\n",
              "      <td>1150</td>\n",
              "      <td>DECEPTIVE PRACTICE</td>\n",
              "      <td>CREDIT CARD FRAUD</td>\n",
              "      <td>APARTMENT</td>\n",
              "      <td>False</td>\n",
              "      <td>False</td>\n",
              "      <td>1924</td>\n",
              "      <td>19.0</td>\n",
              "      <td>44.0</td>\n",
              "      <td>6.0</td>\n",
              "      <td>11</td>\n",
              "      <td>1167040.0</td>\n",
              "      <td>1922212.0</td>\n",
              "      <td>2020</td>\n",
              "      <td>03/13/2020 03:41:29 PM</td>\n",
              "      <td>41.942112</td>\n",
              "      <td>-87.661459</td>\n",
              "      <td>(41.942112495, -87.661458579)</td>\n",
              "    </tr>\n",
              "  </tbody>\n",
              "</table>\n",
              "<p>8030193 rows × 22 columns</p>\n",
              "</div>\n",
              "    <div class=\"colab-df-buttons\">\n",
              "\n",
              "  <div class=\"colab-df-container\">\n",
              "    <button class=\"colab-df-convert\" onclick=\"convertToInteractive('df-1a684242-a0f8-42bb-85a7-18cf2c9402a3')\"\n",
              "            title=\"Convert this dataframe to an interactive table.\"\n",
              "            style=\"display:none;\">\n",
              "\n",
              "  <svg xmlns=\"http://www.w3.org/2000/svg\" height=\"24px\" viewBox=\"0 -960 960 960\">\n",
              "    <path d=\"M120-120v-720h720v720H120Zm60-500h600v-160H180v160Zm220 220h160v-160H400v160Zm0 220h160v-160H400v160ZM180-400h160v-160H180v160Zm440 0h160v-160H620v160ZM180-180h160v-160H180v160Zm440 0h160v-160H620v160Z\"/>\n",
              "  </svg>\n",
              "    </button>\n",
              "\n",
              "  <style>\n",
              "    .colab-df-container {\n",
              "      display:flex;\n",
              "      gap: 12px;\n",
              "    }\n",
              "\n",
              "    .colab-df-convert {\n",
              "      background-color: #E8F0FE;\n",
              "      border: none;\n",
              "      border-radius: 50%;\n",
              "      cursor: pointer;\n",
              "      display: none;\n",
              "      fill: #1967D2;\n",
              "      height: 32px;\n",
              "      padding: 0 0 0 0;\n",
              "      width: 32px;\n",
              "    }\n",
              "\n",
              "    .colab-df-convert:hover {\n",
              "      background-color: #E2EBFA;\n",
              "      box-shadow: 0px 1px 2px rgba(60, 64, 67, 0.3), 0px 1px 3px 1px rgba(60, 64, 67, 0.15);\n",
              "      fill: #174EA6;\n",
              "    }\n",
              "\n",
              "    .colab-df-buttons div {\n",
              "      margin-bottom: 4px;\n",
              "    }\n",
              "\n",
              "    [theme=dark] .colab-df-convert {\n",
              "      background-color: #3B4455;\n",
              "      fill: #D2E3FC;\n",
              "    }\n",
              "\n",
              "    [theme=dark] .colab-df-convert:hover {\n",
              "      background-color: #434B5C;\n",
              "      box-shadow: 0px 1px 3px 1px rgba(0, 0, 0, 0.15);\n",
              "      filter: drop-shadow(0px 1px 2px rgba(0, 0, 0, 0.3));\n",
              "      fill: #FFFFFF;\n",
              "    }\n",
              "  </style>\n",
              "\n",
              "    <script>\n",
              "      const buttonEl =\n",
              "        document.querySelector('#df-1a684242-a0f8-42bb-85a7-18cf2c9402a3 button.colab-df-convert');\n",
              "      buttonEl.style.display =\n",
              "        google.colab.kernel.accessAllowed ? 'block' : 'none';\n",
              "\n",
              "      async function convertToInteractive(key) {\n",
              "        const element = document.querySelector('#df-1a684242-a0f8-42bb-85a7-18cf2c9402a3');\n",
              "        const dataTable =\n",
              "          await google.colab.kernel.invokeFunction('convertToInteractive',\n",
              "                                                    [key], {});\n",
              "        if (!dataTable) return;\n",
              "\n",
              "        const docLinkHtml = 'Like what you see? Visit the ' +\n",
              "          '<a target=\"_blank\" href=https://colab.research.google.com/notebooks/data_table.ipynb>data table notebook</a>'\n",
              "          + ' to learn more about interactive tables.';\n",
              "        element.innerHTML = '';\n",
              "        dataTable['output_type'] = 'display_data';\n",
              "        await google.colab.output.renderOutput(dataTable, element);\n",
              "        const docLink = document.createElement('div');\n",
              "        docLink.innerHTML = docLinkHtml;\n",
              "        element.appendChild(docLink);\n",
              "      }\n",
              "    </script>\n",
              "  </div>\n",
              "\n",
              "\n",
              "<div id=\"df-07df94b7-b3b6-4208-b6d1-3e83a978431b\">\n",
              "  <button class=\"colab-df-quickchart\" onclick=\"quickchart('df-07df94b7-b3b6-4208-b6d1-3e83a978431b')\"\n",
              "            title=\"Suggest charts\"\n",
              "            style=\"display:none;\">\n",
              "\n",
              "<svg xmlns=\"http://www.w3.org/2000/svg\" height=\"24px\"viewBox=\"0 0 24 24\"\n",
              "     width=\"24px\">\n",
              "    <g>\n",
              "        <path d=\"M19 3H5c-1.1 0-2 .9-2 2v14c0 1.1.9 2 2 2h14c1.1 0 2-.9 2-2V5c0-1.1-.9-2-2-2zM9 17H7v-7h2v7zm4 0h-2V7h2v10zm4 0h-2v-4h2v4z\"/>\n",
              "    </g>\n",
              "</svg>\n",
              "  </button>\n",
              "\n",
              "<style>\n",
              "  .colab-df-quickchart {\n",
              "      --bg-color: #E8F0FE;\n",
              "      --fill-color: #1967D2;\n",
              "      --hover-bg-color: #E2EBFA;\n",
              "      --hover-fill-color: #174EA6;\n",
              "      --disabled-fill-color: #AAA;\n",
              "      --disabled-bg-color: #DDD;\n",
              "  }\n",
              "\n",
              "  [theme=dark] .colab-df-quickchart {\n",
              "      --bg-color: #3B4455;\n",
              "      --fill-color: #D2E3FC;\n",
              "      --hover-bg-color: #434B5C;\n",
              "      --hover-fill-color: #FFFFFF;\n",
              "      --disabled-bg-color: #3B4455;\n",
              "      --disabled-fill-color: #666;\n",
              "  }\n",
              "\n",
              "  .colab-df-quickchart {\n",
              "    background-color: var(--bg-color);\n",
              "    border: none;\n",
              "    border-radius: 50%;\n",
              "    cursor: pointer;\n",
              "    display: none;\n",
              "    fill: var(--fill-color);\n",
              "    height: 32px;\n",
              "    padding: 0;\n",
              "    width: 32px;\n",
              "  }\n",
              "\n",
              "  .colab-df-quickchart:hover {\n",
              "    background-color: var(--hover-bg-color);\n",
              "    box-shadow: 0 1px 2px rgba(60, 64, 67, 0.3), 0 1px 3px 1px rgba(60, 64, 67, 0.15);\n",
              "    fill: var(--button-hover-fill-color);\n",
              "  }\n",
              "\n",
              "  .colab-df-quickchart-complete:disabled,\n",
              "  .colab-df-quickchart-complete:disabled:hover {\n",
              "    background-color: var(--disabled-bg-color);\n",
              "    fill: var(--disabled-fill-color);\n",
              "    box-shadow: none;\n",
              "  }\n",
              "\n",
              "  .colab-df-spinner {\n",
              "    border: 2px solid var(--fill-color);\n",
              "    border-color: transparent;\n",
              "    border-bottom-color: var(--fill-color);\n",
              "    animation:\n",
              "      spin 1s steps(1) infinite;\n",
              "  }\n",
              "\n",
              "  @keyframes spin {\n",
              "    0% {\n",
              "      border-color: transparent;\n",
              "      border-bottom-color: var(--fill-color);\n",
              "      border-left-color: var(--fill-color);\n",
              "    }\n",
              "    20% {\n",
              "      border-color: transparent;\n",
              "      border-left-color: var(--fill-color);\n",
              "      border-top-color: var(--fill-color);\n",
              "    }\n",
              "    30% {\n",
              "      border-color: transparent;\n",
              "      border-left-color: var(--fill-color);\n",
              "      border-top-color: var(--fill-color);\n",
              "      border-right-color: var(--fill-color);\n",
              "    }\n",
              "    40% {\n",
              "      border-color: transparent;\n",
              "      border-right-color: var(--fill-color);\n",
              "      border-top-color: var(--fill-color);\n",
              "    }\n",
              "    60% {\n",
              "      border-color: transparent;\n",
              "      border-right-color: var(--fill-color);\n",
              "    }\n",
              "    80% {\n",
              "      border-color: transparent;\n",
              "      border-right-color: var(--fill-color);\n",
              "      border-bottom-color: var(--fill-color);\n",
              "    }\n",
              "    90% {\n",
              "      border-color: transparent;\n",
              "      border-bottom-color: var(--fill-color);\n",
              "    }\n",
              "  }\n",
              "</style>\n",
              "\n",
              "  <script>\n",
              "    async function quickchart(key) {\n",
              "      const quickchartButtonEl =\n",
              "        document.querySelector('#' + key + ' button');\n",
              "      quickchartButtonEl.disabled = true;  // To prevent multiple clicks.\n",
              "      quickchartButtonEl.classList.add('colab-df-spinner');\n",
              "      try {\n",
              "        const charts = await google.colab.kernel.invokeFunction(\n",
              "            'suggestCharts', [key], {});\n",
              "      } catch (error) {\n",
              "        console.error('Error during call to suggestCharts:', error);\n",
              "      }\n",
              "      quickchartButtonEl.classList.remove('colab-df-spinner');\n",
              "      quickchartButtonEl.classList.add('colab-df-quickchart-complete');\n",
              "    }\n",
              "    (() => {\n",
              "      let quickchartButtonEl =\n",
              "        document.querySelector('#df-07df94b7-b3b6-4208-b6d1-3e83a978431b button');\n",
              "      quickchartButtonEl.style.display =\n",
              "        google.colab.kernel.accessAllowed ? 'block' : 'none';\n",
              "    })();\n",
              "  </script>\n",
              "</div>\n",
              "    </div>\n",
              "  </div>\n"
            ],
            "text/plain": [
              "               ID Case Number                    Date  \\\n",
              "0        11037294    JA371270  03/18/2015 12:00:00 PM   \n",
              "1        11646293    JC213749  12/20/2018 03:00:00 PM   \n",
              "2        11645836    JC212333  05/01/2016 12:25:00 AM   \n",
              "3        11645959    JC211511  12/20/2018 04:00:00 PM   \n",
              "4        11645601    JC212935  06/01/2014 12:01:00 AM   \n",
              "...           ...         ...                     ...   \n",
              "8030188  12131776    JD327752  08/10/2020 08:30:00 PM   \n",
              "8030189  12082414    JD269218  06/18/2020 09:00:00 PM   \n",
              "8030190  12118237    JD311791  07/27/2020 03:02:00 PM   \n",
              "8030191  12142591    JD340297  08/14/2020 03:00:00 PM   \n",
              "8030192  12002171    JD177406  03/06/2020 02:00:00 PM   \n",
              "\n",
              "                                       Block  IUCR         Primary Type  \\\n",
              "0                          0000X W WACKER DR  1153   DECEPTIVE PRACTICE   \n",
              "1                       023XX N LOCKWOOD AVE  1154   DECEPTIVE PRACTICE   \n",
              "2                        055XX S ROCKWELL ST  1153   DECEPTIVE PRACTICE   \n",
              "3                         045XX N ALBANY AVE  2820        OTHER OFFENSE   \n",
              "4                        087XX S SANGAMON ST  1153   DECEPTIVE PRACTICE   \n",
              "...                                      ...   ...                  ...   \n",
              "8030188               066XX S SACRAMENTO AVE  0620             BURGLARY   \n",
              "8030189  093XX S DR MARTIN LUTHER KING JR DR  0820                THEFT   \n",
              "8030190                      033XX W POLK ST  0486              BATTERY   \n",
              "8030191                 023XX W ROSEMONT AVE  0910  MOTOR VEHICLE THEFT   \n",
              "8030192                 033XX N LAKEWOOD AVE  1150   DECEPTIVE PRACTICE   \n",
              "\n",
              "                                     Description Location Description  Arrest  \\\n",
              "0            FINANCIAL IDENTITY THEFT OVER $ 300                 BANK   False   \n",
              "1        FINANCIAL IDENTITY THEFT $300 AND UNDER            APARTMENT   False   \n",
              "2            FINANCIAL IDENTITY THEFT OVER $ 300                  NaN   False   \n",
              "3                               TELEPHONE THREAT            RESIDENCE   False   \n",
              "4            FINANCIAL IDENTITY THEFT OVER $ 300            RESIDENCE   False   \n",
              "...                                          ...                  ...     ...   \n",
              "8030188                           UNLAWFUL ENTRY            APARTMENT   False   \n",
              "8030189                           $500 AND UNDER            RESIDENCE   False   \n",
              "8030190                  DOMESTIC BATTERY SIMPLE            APARTMENT   False   \n",
              "8030191                               AUTOMOBILE               STREET   False   \n",
              "8030192                        CREDIT CARD FRAUD            APARTMENT   False   \n",
              "\n",
              "         Domestic  Beat  District  Ward  Community Area FBI Code  \\\n",
              "0           False   111       1.0  42.0            32.0       11   \n",
              "1           False  2515      25.0  36.0            19.0       11   \n",
              "2           False   824       8.0  15.0            63.0       11   \n",
              "3           False  1724      17.0  33.0            14.0      08A   \n",
              "4           False  2222      22.0  21.0            71.0       11   \n",
              "...           ...   ...       ...   ...             ...      ...   \n",
              "8030188     False   831       8.0  17.0            66.0       05   \n",
              "8030189     False   633       6.0   9.0            49.0       06   \n",
              "8030190      True  1134      11.0  24.0            27.0      08B   \n",
              "8030191     False  2413      24.0  50.0             2.0       07   \n",
              "8030192     False  1924      19.0  44.0             6.0       11   \n",
              "\n",
              "         X Coordinate  Y Coordinate  Year              Updated On   Latitude  \\\n",
              "0                 NaN           NaN  2015  08/01/2017 03:52:26 PM        NaN   \n",
              "1                 NaN           NaN  2018  04/06/2019 04:04:43 PM        NaN   \n",
              "2                 NaN           NaN  2016  04/06/2019 04:04:43 PM        NaN   \n",
              "3                 NaN           NaN  2018  04/06/2019 04:04:43 PM        NaN   \n",
              "4                 NaN           NaN  2014  04/06/2019 04:04:43 PM        NaN   \n",
              "...               ...           ...   ...                     ...        ...   \n",
              "8030188     1157527.0     1860392.0  2020  08/17/2020 03:41:32 PM  41.772671   \n",
              "8030189     1180558.0     1843036.0  2020  06/25/2020 03:41:40 PM  41.724546   \n",
              "8030190     1154169.0     1896171.0  2020  08/03/2020 03:41:51 PM  41.870921   \n",
              "8030191     1159419.0     1941765.0  2020  08/26/2020 03:40:41 PM  41.995927   \n",
              "8030192     1167040.0     1922212.0  2020  03/13/2020 03:41:29 PM  41.942112   \n",
              "\n",
              "         Longitude                       Location  \n",
              "0              NaN                            NaN  \n",
              "1              NaN                            NaN  \n",
              "2              NaN                            NaN  \n",
              "3              NaN                            NaN  \n",
              "4              NaN                            NaN  \n",
              "...            ...                            ...  \n",
              "8030188 -87.698104  (41.772671069, -87.698104059)  \n",
              "8030189 -87.614211  (41.724546436, -87.614210743)  \n",
              "8030190 -87.709461  (41.870920735, -87.709461362)  \n",
              "8030191 -87.688929  (41.995927389, -87.688928533)  \n",
              "8030192 -87.661459  (41.942112495, -87.661458579)  \n",
              "\n",
              "[8030193 rows x 22 columns]"
            ]
          },
          "execution_count": 9,
          "metadata": {},
          "output_type": "execute_result"
        }
      ],
      "source": [
        "crimes"
      ]
    },
    {
      "cell_type": "markdown",
      "metadata": {
        "id": "VcFeVqQovW5b"
      },
      "source": [
        "## <a name=\"p4\">Basic Description</a>"
      ]
    },
    {
      "cell_type": "markdown",
      "metadata": {
        "id": "jRrfEQ2LqfAW"
      },
      "source": [
        "**ID** - Unique identifier for the record.\n",
        "\n",
        "**Case Number** - The Chicago Police Department RD Number (Records Division Number), which is unique to the incident.\n",
        "\n",
        "**Date** - Date when the incident occurred. this is sometimes a best estimate.\n",
        "\n",
        "**Block** - The partially redacted address where the incident occurred, placing it on the same block as the actual address.\n",
        "\n",
        "**IUCR** - The Illinois Unifrom Crime Reporting code. This is directly linked to the Primary Type and Description. See the list of IUCR codes at https://data.cityofchicago.org/d/c7ck-438e.\n",
        "\n",
        "**Primary Type** - The primary description of the IUCR code.\n",
        "\n",
        "**Description** - The secondary description of the IUCR code, a subcategory of the primary description.\n",
        "\n",
        "**Location Description** - Description of the location where the incident occurred.\n",
        "\n",
        "**Arrest** - Indicates whether an arrest was made.\n",
        "\n",
        "**Domestic** - Indicates whether the incident was domestic-related as defined by the Illinois Domestic Violence Act.\n",
        "\n",
        "**Beat** - Indicates the beat where the incident occurred. A beat is the smallest police geographic area – each beat has a dedicated police beat car. Three to five beats make up a police sector, and three sectors make up a police district. The Chicago Police Department has 22 police districts. See the beats at https://data.cityofchicago.org/d/aerh-rz74.\n",
        "\n",
        "**District** - Indicates the police district where the incident occurred. See the districts at https://data.cityofchicago.org/d/fthy-xz3r.\n",
        "\n",
        "**Ward** - The ward (City Council district) where the incident occurred. See the wards at https://data.cityofchicago.org/d/sp34-6z76.\n",
        "\n",
        "**Community Area** - Indicates the community area where the incident occurred. Chicago has 77 community areas. See the community areas at https://data.cityofchicago.org/d/cauq-8yn6.\n",
        "\n",
        "**FBI Code** - Indicates the crime classification as outlined in the FBI's National Incident-Based Reporting System (NIBRS). See the Chicago Police Department listing of these classifications at http://gis.chicagopolice.org/clearmap_crime_sums/crime_types.html.\n",
        "\n",
        "**X Coordinate** - The x coordinate of the location where the incident occurred in State Plane Illinois East NAD 1983 projection. This location is shifted from the actual location for partial redaction but falls on the same block.\n",
        "\n",
        "**Y Coordinate** - The y coordinate of the location where the incident occurred in State Plane Illinois East NAD 1983 projection. This location is shifted from the actual location for partial redaction but falls on the same block.\n",
        "\n",
        "**Year** - Year the incident occurred.\n",
        "\n",
        "**Updated On** - Date and time the record was last updated.\n",
        "\n",
        "**Latitude** - The latitude of the location where the incident occurred. This location is shifted from the actual location for partial redaction but falls on the same block.\n",
        "\n",
        "**Longitude** - The longitude of the location where the incident occurred. This location is shifted from the actual location for partial redaction but falls on the same block.\n",
        "\n",
        "**Location** - The location where the incident occurred in a format that allows for creation of maps and other geographic operations on this data portal. This location is shifted from the actual location for partial redaction but falls on the same block."
      ]
    },
    {
      "cell_type": "code",
      "execution_count": null,
      "metadata": {
        "colab": {
          "base_uri": "https://localhost:8080/"
        },
        "id": "ydWnXqMbvlEV",
        "outputId": "90312f03-97f0-459b-c8e6-134743cdf46d"
      },
      "outputs": [
        {
          "data": {
            "text/plain": [
              "(8030193, 22)"
            ]
          },
          "execution_count": 10,
          "metadata": {},
          "output_type": "execute_result"
        }
      ],
      "source": [
        "crimes.shape"
      ]
    },
    {
      "cell_type": "code",
      "execution_count": null,
      "metadata": {
        "colab": {
          "base_uri": "https://localhost:8080/"
        },
        "id": "jYH5JeABZ28b",
        "outputId": "ef7051c3-19ee-463a-8266-f0a01d11270a"
      },
      "outputs": [
        {
          "name": "stdout",
          "output_type": "stream",
          "text": [
            "<class 'pandas.core.frame.DataFrame'>\n",
            "RangeIndex: 8030193 entries, 0 to 8030192\n",
            "Data columns (total 22 columns):\n",
            " #   Column                Dtype  \n",
            "---  ------                -----  \n",
            " 0   ID                    int64  \n",
            " 1   Case Number           object \n",
            " 2   Date                  object \n",
            " 3   Block                 object \n",
            " 4   IUCR                  object \n",
            " 5   Primary Type          object \n",
            " 6   Description           object \n",
            " 7   Location Description  object \n",
            " 8   Arrest                bool   \n",
            " 9   Domestic              bool   \n",
            " 10  Beat                  int64  \n",
            " 11  District              float64\n",
            " 12  Ward                  float64\n",
            " 13  Community Area        float64\n",
            " 14  FBI Code              object \n",
            " 15  X Coordinate          float64\n",
            " 16  Y Coordinate          float64\n",
            " 17  Year                  int64  \n",
            " 18  Updated On            object \n",
            " 19  Latitude              float64\n",
            " 20  Longitude             float64\n",
            " 21  Location              object \n",
            "dtypes: bool(2), float64(7), int64(3), object(10)\n",
            "memory usage: 1.2+ GB\n"
          ]
        }
      ],
      "source": [
        "crimes.info()"
      ]
    },
    {
      "cell_type": "code",
      "execution_count": null,
      "metadata": {
        "colab": {
          "base_uri": "https://localhost:8080/",
          "height": 708
        },
        "id": "C5BUDshvms8P",
        "outputId": "0ad6e591-06ac-4f90-d8ac-4dbb707e584c"
      },
      "outputs": [
        {
          "data": {
            "text/html": [
              "<style type=\"text/css\">\n",
              "#T_d97c8_row0_col1, #T_d97c8_row0_col2, #T_d97c8_row1_col1, #T_d97c8_row1_col2, #T_d97c8_row2_col1, #T_d97c8_row2_col2, #T_d97c8_row3_col1, #T_d97c8_row3_col2, #T_d97c8_row3_col3, #T_d97c8_row4_col1, #T_d97c8_row4_col2, #T_d97c8_row4_col3, #T_d97c8_row5_col1, #T_d97c8_row5_col2, #T_d97c8_row5_col3, #T_d97c8_row6_col2, #T_d97c8_row6_col3, #T_d97c8_row7_col1, #T_d97c8_row7_col2, #T_d97c8_row7_col3, #T_d97c8_row8_col1, #T_d97c8_row8_col2, #T_d97c8_row8_col3, #T_d97c8_row9_col1, #T_d97c8_row9_col2, #T_d97c8_row9_col3, #T_d97c8_row10_col1, #T_d97c8_row10_col2, #T_d97c8_row10_col3, #T_d97c8_row11_col2, #T_d97c8_row11_col3, #T_d97c8_row12_col2, #T_d97c8_row12_col3, #T_d97c8_row13_col1, #T_d97c8_row13_col2, #T_d97c8_row13_col3, #T_d97c8_row14_col2, #T_d97c8_row15_col2, #T_d97c8_row16_col1, #T_d97c8_row16_col2, #T_d97c8_row16_col3, #T_d97c8_row17_col1, #T_d97c8_row17_col2, #T_d97c8_row17_col3, #T_d97c8_row18_col2, #T_d97c8_row19_col2, #T_d97c8_row20_col2 {\n",
              "  background-color: #fff7fb;\n",
              "  color: #000000;\n",
              "}\n",
              "#T_d97c8_row0_col3, #T_d97c8_row11_col1, #T_d97c8_row12_col1 {\n",
              "  background-color: #023858;\n",
              "  color: #f1f1f1;\n",
              "}\n",
              "#T_d97c8_row1_col3 {\n",
              "  background-color: #97b7d7;\n",
              "  color: #000000;\n",
              "}\n",
              "#T_d97c8_row2_col3, #T_d97c8_row14_col3 {\n",
              "  background-color: #fef6fa;\n",
              "  color: #000000;\n",
              "}\n",
              "#T_d97c8_row6_col1 {\n",
              "  background-color: #fcf4fa;\n",
              "  color: #000000;\n",
              "}\n",
              "#T_d97c8_row14_col1, #T_d97c8_row15_col1, #T_d97c8_row18_col1, #T_d97c8_row19_col1, #T_d97c8_row20_col1 {\n",
              "  background-color: #e8e4f0;\n",
              "  color: #000000;\n",
              "}\n",
              "#T_d97c8_row15_col3 {\n",
              "  background-color: #fdf5fa;\n",
              "  color: #000000;\n",
              "}\n",
              "#T_d97c8_row18_col3, #T_d97c8_row19_col3, #T_d97c8_row20_col3 {\n",
              "  background-color: #eee9f3;\n",
              "  color: #000000;\n",
              "}\n",
              "</style>\n",
              "<table id=\"T_d97c8\" class=\"dataframe\">\n",
              "  <thead>\n",
              "    <tr>\n",
              "      <th class=\"blank level0\" >&nbsp;</th>\n",
              "      <th id=\"T_d97c8_level0_col0\" class=\"col_heading level0 col0\" >data type</th>\n",
              "      <th id=\"T_d97c8_level0_col1\" class=\"col_heading level0 col1\" >#missing</th>\n",
              "      <th id=\"T_d97c8_level0_col2\" class=\"col_heading level0 col2\" >Duplicate</th>\n",
              "      <th id=\"T_d97c8_level0_col3\" class=\"col_heading level0 col3\" >#unique</th>\n",
              "      <th id=\"T_d97c8_level0_col4\" class=\"col_heading level0 col4\" >min</th>\n",
              "      <th id=\"T_d97c8_level0_col5\" class=\"col_heading level0 col5\" >max</th>\n",
              "      <th id=\"T_d97c8_level0_col6\" class=\"col_heading level0 col6\" >avg</th>\n",
              "      <th id=\"T_d97c8_level0_col7\" class=\"col_heading level0 col7\" >std dev</th>\n",
              "      <th id=\"T_d97c8_level0_col8\" class=\"col_heading level0 col8\" >top value</th>\n",
              "      <th id=\"T_d97c8_level0_col9\" class=\"col_heading level0 col9\" >Freq</th>\n",
              "    </tr>\n",
              "  </thead>\n",
              "  <tbody>\n",
              "    <tr>\n",
              "      <th id=\"T_d97c8_level0_row0\" class=\"row_heading level0 row0\" >Case Number</th>\n",
              "      <td id=\"T_d97c8_row0_col0\" class=\"data row0 col0\" >object</td>\n",
              "      <td id=\"T_d97c8_row0_col1\" class=\"data row0 col1\" >0</td>\n",
              "      <td id=\"T_d97c8_row0_col2\" class=\"data row0 col2\" >166</td>\n",
              "      <td id=\"T_d97c8_row0_col3\" class=\"data row0 col3\" >8029630</td>\n",
              "      <td id=\"T_d97c8_row0_col4\" class=\"data row0 col4\" >nan</td>\n",
              "      <td id=\"T_d97c8_row0_col5\" class=\"data row0 col5\" >nan</td>\n",
              "      <td id=\"T_d97c8_row0_col6\" class=\"data row0 col6\" >nan</td>\n",
              "      <td id=\"T_d97c8_row0_col7\" class=\"data row0 col7\" >nan</td>\n",
              "      <td id=\"T_d97c8_row0_col8\" class=\"data row0 col8\" >HZ140230</td>\n",
              "      <td id=\"T_d97c8_row0_col9\" class=\"data row0 col9\" >6</td>\n",
              "    </tr>\n",
              "    <tr>\n",
              "      <th id=\"T_d97c8_level0_row1\" class=\"row_heading level0 row1\" >Date</th>\n",
              "      <td id=\"T_d97c8_row1_col0\" class=\"data row1 col0\" >object</td>\n",
              "      <td id=\"T_d97c8_row1_col1\" class=\"data row1 col1\" >0</td>\n",
              "      <td id=\"T_d97c8_row1_col2\" class=\"data row1 col2\" >166</td>\n",
              "      <td id=\"T_d97c8_row1_col3\" class=\"data row1 col3\" >3324477</td>\n",
              "      <td id=\"T_d97c8_row1_col4\" class=\"data row1 col4\" >nan</td>\n",
              "      <td id=\"T_d97c8_row1_col5\" class=\"data row1 col5\" >nan</td>\n",
              "      <td id=\"T_d97c8_row1_col6\" class=\"data row1 col6\" >nan</td>\n",
              "      <td id=\"T_d97c8_row1_col7\" class=\"data row1 col7\" >nan</td>\n",
              "      <td id=\"T_d97c8_row1_col8\" class=\"data row1 col8\" >01/01/2008 12:01:00 AM</td>\n",
              "      <td id=\"T_d97c8_row1_col9\" class=\"data row1 col9\" >305</td>\n",
              "    </tr>\n",
              "    <tr>\n",
              "      <th id=\"T_d97c8_level0_row2\" class=\"row_heading level0 row2\" >Block</th>\n",
              "      <td id=\"T_d97c8_row2_col0\" class=\"data row2 col0\" >object</td>\n",
              "      <td id=\"T_d97c8_row2_col1\" class=\"data row2 col1\" >0</td>\n",
              "      <td id=\"T_d97c8_row2_col2\" class=\"data row2 col2\" >166</td>\n",
              "      <td id=\"T_d97c8_row2_col3\" class=\"data row2 col3\" >63785</td>\n",
              "      <td id=\"T_d97c8_row2_col4\" class=\"data row2 col4\" >nan</td>\n",
              "      <td id=\"T_d97c8_row2_col5\" class=\"data row2 col5\" >nan</td>\n",
              "      <td id=\"T_d97c8_row2_col6\" class=\"data row2 col6\" >nan</td>\n",
              "      <td id=\"T_d97c8_row2_col7\" class=\"data row2 col7\" >nan</td>\n",
              "      <td id=\"T_d97c8_row2_col8\" class=\"data row2 col8\" >100XX W OHARE ST</td>\n",
              "      <td id=\"T_d97c8_row2_col9\" class=\"data row2 col9\" >16668</td>\n",
              "    </tr>\n",
              "    <tr>\n",
              "      <th id=\"T_d97c8_level0_row3\" class=\"row_heading level0 row3\" >IUCR</th>\n",
              "      <td id=\"T_d97c8_row3_col0\" class=\"data row3 col0\" >object</td>\n",
              "      <td id=\"T_d97c8_row3_col1\" class=\"data row3 col1\" >0</td>\n",
              "      <td id=\"T_d97c8_row3_col2\" class=\"data row3 col2\" >166</td>\n",
              "      <td id=\"T_d97c8_row3_col3\" class=\"data row3 col3\" >405</td>\n",
              "      <td id=\"T_d97c8_row3_col4\" class=\"data row3 col4\" >nan</td>\n",
              "      <td id=\"T_d97c8_row3_col5\" class=\"data row3 col5\" >nan</td>\n",
              "      <td id=\"T_d97c8_row3_col6\" class=\"data row3 col6\" >nan</td>\n",
              "      <td id=\"T_d97c8_row3_col7\" class=\"data row3 col7\" >nan</td>\n",
              "      <td id=\"T_d97c8_row3_col8\" class=\"data row3 col8\" >0820</td>\n",
              "      <td id=\"T_d97c8_row3_col9\" class=\"data row3 col9\" >648881</td>\n",
              "    </tr>\n",
              "    <tr>\n",
              "      <th id=\"T_d97c8_level0_row4\" class=\"row_heading level0 row4\" >Primary Type</th>\n",
              "      <td id=\"T_d97c8_row4_col0\" class=\"data row4 col0\" >object</td>\n",
              "      <td id=\"T_d97c8_row4_col1\" class=\"data row4 col1\" >0</td>\n",
              "      <td id=\"T_d97c8_row4_col2\" class=\"data row4 col2\" >166</td>\n",
              "      <td id=\"T_d97c8_row4_col3\" class=\"data row4 col3\" >36</td>\n",
              "      <td id=\"T_d97c8_row4_col4\" class=\"data row4 col4\" >nan</td>\n",
              "      <td id=\"T_d97c8_row4_col5\" class=\"data row4 col5\" >nan</td>\n",
              "      <td id=\"T_d97c8_row4_col6\" class=\"data row4 col6\" >nan</td>\n",
              "      <td id=\"T_d97c8_row4_col7\" class=\"data row4 col7\" >nan</td>\n",
              "      <td id=\"T_d97c8_row4_col8\" class=\"data row4 col8\" >THEFT</td>\n",
              "      <td id=\"T_d97c8_row4_col9\" class=\"data row4 col9\" >1696238</td>\n",
              "    </tr>\n",
              "    <tr>\n",
              "      <th id=\"T_d97c8_level0_row5\" class=\"row_heading level0 row5\" >Description</th>\n",
              "      <td id=\"T_d97c8_row5_col0\" class=\"data row5 col0\" >object</td>\n",
              "      <td id=\"T_d97c8_row5_col1\" class=\"data row5 col1\" >0</td>\n",
              "      <td id=\"T_d97c8_row5_col2\" class=\"data row5 col2\" >166</td>\n",
              "      <td id=\"T_d97c8_row5_col3\" class=\"data row5 col3\" >552</td>\n",
              "      <td id=\"T_d97c8_row5_col4\" class=\"data row5 col4\" >nan</td>\n",
              "      <td id=\"T_d97c8_row5_col5\" class=\"data row5 col5\" >nan</td>\n",
              "      <td id=\"T_d97c8_row5_col6\" class=\"data row5 col6\" >nan</td>\n",
              "      <td id=\"T_d97c8_row5_col7\" class=\"data row5 col7\" >nan</td>\n",
              "      <td id=\"T_d97c8_row5_col8\" class=\"data row5 col8\" >SIMPLE</td>\n",
              "      <td id=\"T_d97c8_row5_col9\" class=\"data row5 col9\" >941824</td>\n",
              "    </tr>\n",
              "    <tr>\n",
              "      <th id=\"T_d97c8_level0_row6\" class=\"row_heading level0 row6\" >Location Description</th>\n",
              "      <td id=\"T_d97c8_row6_col0\" class=\"data row6 col0\" >object</td>\n",
              "      <td id=\"T_d97c8_row6_col1\" class=\"data row6 col1\" >12812</td>\n",
              "      <td id=\"T_d97c8_row6_col2\" class=\"data row6 col2\" >166</td>\n",
              "      <td id=\"T_d97c8_row6_col3\" class=\"data row6 col3\" >217</td>\n",
              "      <td id=\"T_d97c8_row6_col4\" class=\"data row6 col4\" >nan</td>\n",
              "      <td id=\"T_d97c8_row6_col5\" class=\"data row6 col5\" >nan</td>\n",
              "      <td id=\"T_d97c8_row6_col6\" class=\"data row6 col6\" >nan</td>\n",
              "      <td id=\"T_d97c8_row6_col7\" class=\"data row6 col7\" >nan</td>\n",
              "      <td id=\"T_d97c8_row6_col8\" class=\"data row6 col8\" >STREET</td>\n",
              "      <td id=\"T_d97c8_row6_col9\" class=\"data row6 col9\" >2097664</td>\n",
              "    </tr>\n",
              "    <tr>\n",
              "      <th id=\"T_d97c8_level0_row7\" class=\"row_heading level0 row7\" >Arrest</th>\n",
              "      <td id=\"T_d97c8_row7_col0\" class=\"data row7 col0\" >bool</td>\n",
              "      <td id=\"T_d97c8_row7_col1\" class=\"data row7 col1\" >0</td>\n",
              "      <td id=\"T_d97c8_row7_col2\" class=\"data row7 col2\" >166</td>\n",
              "      <td id=\"T_d97c8_row7_col3\" class=\"data row7 col3\" >2</td>\n",
              "      <td id=\"T_d97c8_row7_col4\" class=\"data row7 col4\" >nan</td>\n",
              "      <td id=\"T_d97c8_row7_col5\" class=\"data row7 col5\" >nan</td>\n",
              "      <td id=\"T_d97c8_row7_col6\" class=\"data row7 col6\" >nan</td>\n",
              "      <td id=\"T_d97c8_row7_col7\" class=\"data row7 col7\" >nan</td>\n",
              "      <td id=\"T_d97c8_row7_col8\" class=\"data row7 col8\" >False</td>\n",
              "      <td id=\"T_d97c8_row7_col9\" class=\"data row7 col9\" >5964629</td>\n",
              "    </tr>\n",
              "    <tr>\n",
              "      <th id=\"T_d97c8_level0_row8\" class=\"row_heading level0 row8\" >Domestic</th>\n",
              "      <td id=\"T_d97c8_row8_col0\" class=\"data row8 col0\" >bool</td>\n",
              "      <td id=\"T_d97c8_row8_col1\" class=\"data row8 col1\" >0</td>\n",
              "      <td id=\"T_d97c8_row8_col2\" class=\"data row8 col2\" >166</td>\n",
              "      <td id=\"T_d97c8_row8_col3\" class=\"data row8 col3\" >2</td>\n",
              "      <td id=\"T_d97c8_row8_col4\" class=\"data row8 col4\" >nan</td>\n",
              "      <td id=\"T_d97c8_row8_col5\" class=\"data row8 col5\" >nan</td>\n",
              "      <td id=\"T_d97c8_row8_col6\" class=\"data row8 col6\" >nan</td>\n",
              "      <td id=\"T_d97c8_row8_col7\" class=\"data row8 col7\" >nan</td>\n",
              "      <td id=\"T_d97c8_row8_col8\" class=\"data row8 col8\" >False</td>\n",
              "      <td id=\"T_d97c8_row8_col9\" class=\"data row8 col9\" >6649746</td>\n",
              "    </tr>\n",
              "    <tr>\n",
              "      <th id=\"T_d97c8_level0_row9\" class=\"row_heading level0 row9\" >Beat</th>\n",
              "      <td id=\"T_d97c8_row9_col0\" class=\"data row9 col0\" >int64</td>\n",
              "      <td id=\"T_d97c8_row9_col1\" class=\"data row9 col1\" >0</td>\n",
              "      <td id=\"T_d97c8_row9_col2\" class=\"data row9 col2\" >166</td>\n",
              "      <td id=\"T_d97c8_row9_col3\" class=\"data row9 col3\" >305</td>\n",
              "      <td id=\"T_d97c8_row9_col4\" class=\"data row9 col4\" >111.000000</td>\n",
              "      <td id=\"T_d97c8_row9_col5\" class=\"data row9 col5\" >2535.000000</td>\n",
              "      <td id=\"T_d97c8_row9_col6\" class=\"data row9 col6\" >1185.115180</td>\n",
              "      <td id=\"T_d97c8_row9_col7\" class=\"data row9 col7\" >703.464850</td>\n",
              "      <td id=\"T_d97c8_row9_col8\" class=\"data row9 col8\" >nan</td>\n",
              "      <td id=\"T_d97c8_row9_col9\" class=\"data row9 col9\" >nan</td>\n",
              "    </tr>\n",
              "    <tr>\n",
              "      <th id=\"T_d97c8_level0_row10\" class=\"row_heading level0 row10\" >District</th>\n",
              "      <td id=\"T_d97c8_row10_col0\" class=\"data row10 col0\" >float64</td>\n",
              "      <td id=\"T_d97c8_row10_col1\" class=\"data row10 col1\" >47</td>\n",
              "      <td id=\"T_d97c8_row10_col2\" class=\"data row10 col2\" >166</td>\n",
              "      <td id=\"T_d97c8_row10_col3\" class=\"data row10 col3\" >24</td>\n",
              "      <td id=\"T_d97c8_row10_col4\" class=\"data row10 col4\" >1.000000</td>\n",
              "      <td id=\"T_d97c8_row10_col5\" class=\"data row10 col5\" >31.000000</td>\n",
              "      <td id=\"T_d97c8_row10_col6\" class=\"data row10 col6\" >11.296899</td>\n",
              "      <td id=\"T_d97c8_row10_col7\" class=\"data row10 col7\" >6.957950</td>\n",
              "      <td id=\"T_d97c8_row10_col8\" class=\"data row10 col8\" >nan</td>\n",
              "      <td id=\"T_d97c8_row10_col9\" class=\"data row10 col9\" >nan</td>\n",
              "    </tr>\n",
              "    <tr>\n",
              "      <th id=\"T_d97c8_level0_row11\" class=\"row_heading level0 row11\" >Ward</th>\n",
              "      <td id=\"T_d97c8_row11_col0\" class=\"data row11 col0\" >float64</td>\n",
              "      <td id=\"T_d97c8_row11_col1\" class=\"data row11 col1\" >614853</td>\n",
              "      <td id=\"T_d97c8_row11_col2\" class=\"data row11 col2\" >166</td>\n",
              "      <td id=\"T_d97c8_row11_col3\" class=\"data row11 col3\" >50</td>\n",
              "      <td id=\"T_d97c8_row11_col4\" class=\"data row11 col4\" >1.000000</td>\n",
              "      <td id=\"T_d97c8_row11_col5\" class=\"data row11 col5\" >50.000000</td>\n",
              "      <td id=\"T_d97c8_row11_col6\" class=\"data row11 col6\" >22.766439</td>\n",
              "      <td id=\"T_d97c8_row11_col7\" class=\"data row11 col7\" >13.854333</td>\n",
              "      <td id=\"T_d97c8_row11_col8\" class=\"data row11 col8\" >nan</td>\n",
              "      <td id=\"T_d97c8_row11_col9\" class=\"data row11 col9\" >nan</td>\n",
              "    </tr>\n",
              "    <tr>\n",
              "      <th id=\"T_d97c8_level0_row12\" class=\"row_heading level0 row12\" >Community Area</th>\n",
              "      <td id=\"T_d97c8_row12_col0\" class=\"data row12 col0\" >float64</td>\n",
              "      <td id=\"T_d97c8_row12_col1\" class=\"data row12 col1\" >613478</td>\n",
              "      <td id=\"T_d97c8_row12_col2\" class=\"data row12 col2\" >166</td>\n",
              "      <td id=\"T_d97c8_row12_col3\" class=\"data row12 col3\" >78</td>\n",
              "      <td id=\"T_d97c8_row12_col4\" class=\"data row12 col4\" >0.000000</td>\n",
              "      <td id=\"T_d97c8_row12_col5\" class=\"data row12 col5\" >77.000000</td>\n",
              "      <td id=\"T_d97c8_row12_col6\" class=\"data row12 col6\" >37.440185</td>\n",
              "      <td id=\"T_d97c8_row12_col7\" class=\"data row12 col7\" >21.544132</td>\n",
              "      <td id=\"T_d97c8_row12_col8\" class=\"data row12 col8\" >nan</td>\n",
              "      <td id=\"T_d97c8_row12_col9\" class=\"data row12 col9\" >nan</td>\n",
              "    </tr>\n",
              "    <tr>\n",
              "      <th id=\"T_d97c8_level0_row13\" class=\"row_heading level0 row13\" >FBI Code</th>\n",
              "      <td id=\"T_d97c8_row13_col0\" class=\"data row13 col0\" >object</td>\n",
              "      <td id=\"T_d97c8_row13_col1\" class=\"data row13 col1\" >0</td>\n",
              "      <td id=\"T_d97c8_row13_col2\" class=\"data row13 col2\" >166</td>\n",
              "      <td id=\"T_d97c8_row13_col3\" class=\"data row13 col3\" >27</td>\n",
              "      <td id=\"T_d97c8_row13_col4\" class=\"data row13 col4\" >nan</td>\n",
              "      <td id=\"T_d97c8_row13_col5\" class=\"data row13 col5\" >nan</td>\n",
              "      <td id=\"T_d97c8_row13_col6\" class=\"data row13 col6\" >nan</td>\n",
              "      <td id=\"T_d97c8_row13_col7\" class=\"data row13 col7\" >nan</td>\n",
              "      <td id=\"T_d97c8_row13_col8\" class=\"data row13 col8\" >06</td>\n",
              "      <td id=\"T_d97c8_row13_col9\" class=\"data row13 col9\" >1696238</td>\n",
              "    </tr>\n",
              "    <tr>\n",
              "      <th id=\"T_d97c8_level0_row14\" class=\"row_heading level0 row14\" >X Coordinate</th>\n",
              "      <td id=\"T_d97c8_row14_col0\" class=\"data row14 col0\" >float64</td>\n",
              "      <td id=\"T_d97c8_row14_col1\" class=\"data row14 col1\" >88430</td>\n",
              "      <td id=\"T_d97c8_row14_col2\" class=\"data row14 col2\" >166</td>\n",
              "      <td id=\"T_d97c8_row14_col3\" class=\"data row14 col3\" >79129</td>\n",
              "      <td id=\"T_d97c8_row14_col4\" class=\"data row14 col4\" >0.000000</td>\n",
              "      <td id=\"T_d97c8_row14_col5\" class=\"data row14 col5\" >1205119.000000</td>\n",
              "      <td id=\"T_d97c8_row14_col6\" class=\"data row14 col6\" >1164616.347347</td>\n",
              "      <td id=\"T_d97c8_row14_col7\" class=\"data row14 col7\" >16986.951804</td>\n",
              "      <td id=\"T_d97c8_row14_col8\" class=\"data row14 col8\" >nan</td>\n",
              "      <td id=\"T_d97c8_row14_col9\" class=\"data row14 col9\" >nan</td>\n",
              "    </tr>\n",
              "    <tr>\n",
              "      <th id=\"T_d97c8_level0_row15\" class=\"row_heading level0 row15\" >Y Coordinate</th>\n",
              "      <td id=\"T_d97c8_row15_col0\" class=\"data row15 col0\" >float64</td>\n",
              "      <td id=\"T_d97c8_row15_col1\" class=\"data row15 col1\" >88430</td>\n",
              "      <td id=\"T_d97c8_row15_col2\" class=\"data row15 col2\" >166</td>\n",
              "      <td id=\"T_d97c8_row15_col3\" class=\"data row15 col3\" >130290</td>\n",
              "      <td id=\"T_d97c8_row15_col4\" class=\"data row15 col4\" >0.000000</td>\n",
              "      <td id=\"T_d97c8_row15_col5\" class=\"data row15 col5\" >1951622.000000</td>\n",
              "      <td id=\"T_d97c8_row15_col6\" class=\"data row15 col6\" >1885835.762872</td>\n",
              "      <td id=\"T_d97c8_row15_col7\" class=\"data row15 col7\" >32475.780972</td>\n",
              "      <td id=\"T_d97c8_row15_col8\" class=\"data row15 col8\" >nan</td>\n",
              "      <td id=\"T_d97c8_row15_col9\" class=\"data row15 col9\" >nan</td>\n",
              "    </tr>\n",
              "    <tr>\n",
              "      <th id=\"T_d97c8_level0_row16\" class=\"row_heading level0 row16\" >Year</th>\n",
              "      <td id=\"T_d97c8_row16_col0\" class=\"data row16 col0\" >int64</td>\n",
              "      <td id=\"T_d97c8_row16_col1\" class=\"data row16 col1\" >0</td>\n",
              "      <td id=\"T_d97c8_row16_col2\" class=\"data row16 col2\" >166</td>\n",
              "      <td id=\"T_d97c8_row16_col3\" class=\"data row16 col3\" >24</td>\n",
              "      <td id=\"T_d97c8_row16_col4\" class=\"data row16 col4\" >2001.000000</td>\n",
              "      <td id=\"T_d97c8_row16_col5\" class=\"data row16 col5\" >2024.000000</td>\n",
              "      <td id=\"T_d97c8_row16_col6\" class=\"data row16 col6\" >2010.348657</td>\n",
              "      <td id=\"T_d97c8_row16_col7\" class=\"data row16 col7\" >6.572753</td>\n",
              "      <td id=\"T_d97c8_row16_col8\" class=\"data row16 col8\" >nan</td>\n",
              "      <td id=\"T_d97c8_row16_col9\" class=\"data row16 col9\" >nan</td>\n",
              "    </tr>\n",
              "    <tr>\n",
              "      <th id=\"T_d97c8_level0_row17\" class=\"row_heading level0 row17\" >Updated On</th>\n",
              "      <td id=\"T_d97c8_row17_col0\" class=\"data row17 col0\" >object</td>\n",
              "      <td id=\"T_d97c8_row17_col1\" class=\"data row17 col1\" >0</td>\n",
              "      <td id=\"T_d97c8_row17_col2\" class=\"data row17 col2\" >166</td>\n",
              "      <td id=\"T_d97c8_row17_col3\" class=\"data row17 col3\" >6167</td>\n",
              "      <td id=\"T_d97c8_row17_col4\" class=\"data row17 col4\" >nan</td>\n",
              "      <td id=\"T_d97c8_row17_col5\" class=\"data row17 col5\" >nan</td>\n",
              "      <td id=\"T_d97c8_row17_col6\" class=\"data row17 col6\" >nan</td>\n",
              "      <td id=\"T_d97c8_row17_col7\" class=\"data row17 col7\" >nan</td>\n",
              "      <td id=\"T_d97c8_row17_col8\" class=\"data row17 col8\" >02/10/2018 03:50:01 PM</td>\n",
              "      <td id=\"T_d97c8_row17_col9\" class=\"data row17 col9\" >2704366</td>\n",
              "    </tr>\n",
              "    <tr>\n",
              "      <th id=\"T_d97c8_level0_row18\" class=\"row_heading level0 row18\" >Latitude</th>\n",
              "      <td id=\"T_d97c8_row18_col0\" class=\"data row18 col0\" >float64</td>\n",
              "      <td id=\"T_d97c8_row18_col1\" class=\"data row18 col1\" >88430</td>\n",
              "      <td id=\"T_d97c8_row18_col2\" class=\"data row18 col2\" >166</td>\n",
              "      <td id=\"T_d97c8_row18_col3\" class=\"data row18 col3\" >896799</td>\n",
              "      <td id=\"T_d97c8_row18_col4\" class=\"data row18 col4\" >36.619446</td>\n",
              "      <td id=\"T_d97c8_row18_col5\" class=\"data row18 col5\" >42.022910</td>\n",
              "      <td id=\"T_d97c8_row18_col6\" class=\"data row18 col6\" >41.842328</td>\n",
              "      <td id=\"T_d97c8_row18_col7\" class=\"data row18 col7\" >0.089354</td>\n",
              "      <td id=\"T_d97c8_row18_col8\" class=\"data row18 col8\" >nan</td>\n",
              "      <td id=\"T_d97c8_row18_col9\" class=\"data row18 col9\" >nan</td>\n",
              "    </tr>\n",
              "    <tr>\n",
              "      <th id=\"T_d97c8_level0_row19\" class=\"row_heading level0 row19\" >Longitude</th>\n",
              "      <td id=\"T_d97c8_row19_col0\" class=\"data row19 col0\" >float64</td>\n",
              "      <td id=\"T_d97c8_row19_col1\" class=\"data row19 col1\" >88430</td>\n",
              "      <td id=\"T_d97c8_row19_col2\" class=\"data row19 col2\" >166</td>\n",
              "      <td id=\"T_d97c8_row19_col3\" class=\"data row19 col3\" >896201</td>\n",
              "      <td id=\"T_d97c8_row19_col4\" class=\"data row19 col4\" >-91.686566</td>\n",
              "      <td id=\"T_d97c8_row19_col5\" class=\"data row19 col5\" >-87.524529</td>\n",
              "      <td id=\"T_d97c8_row19_col6\" class=\"data row19 col6\" >-87.671435</td>\n",
              "      <td id=\"T_d97c8_row19_col7\" class=\"data row19 col7\" >0.061545</td>\n",
              "      <td id=\"T_d97c8_row19_col8\" class=\"data row19 col8\" >nan</td>\n",
              "      <td id=\"T_d97c8_row19_col9\" class=\"data row19 col9\" >nan</td>\n",
              "    </tr>\n",
              "    <tr>\n",
              "      <th id=\"T_d97c8_level0_row20\" class=\"row_heading level0 row20\" >Location</th>\n",
              "      <td id=\"T_d97c8_row20_col0\" class=\"data row20 col0\" >object</td>\n",
              "      <td id=\"T_d97c8_row20_col1\" class=\"data row20 col1\" >88430</td>\n",
              "      <td id=\"T_d97c8_row20_col2\" class=\"data row20 col2\" >166</td>\n",
              "      <td id=\"T_d97c8_row20_col3\" class=\"data row20 col3\" >898076</td>\n",
              "      <td id=\"T_d97c8_row20_col4\" class=\"data row20 col4\" >nan</td>\n",
              "      <td id=\"T_d97c8_row20_col5\" class=\"data row20 col5\" >nan</td>\n",
              "      <td id=\"T_d97c8_row20_col6\" class=\"data row20 col6\" >nan</td>\n",
              "      <td id=\"T_d97c8_row20_col7\" class=\"data row20 col7\" >nan</td>\n",
              "      <td id=\"T_d97c8_row20_col8\" class=\"data row20 col8\" >(41.976290414, -87.905227221)</td>\n",
              "      <td id=\"T_d97c8_row20_col9\" class=\"data row20 col9\" >14458</td>\n",
              "    </tr>\n",
              "  </tbody>\n",
              "</table>\n"
            ],
            "text/plain": [
              "<pandas.io.formats.style.Styler at 0x7fc1b04efbe0>"
            ]
          },
          "execution_count": 12,
          "metadata": {},
          "output_type": "execute_result"
        }
      ],
      "source": [
        "def summary(df):\n",
        "    summ = pd.DataFrame(df.dtypes, columns=['data type'])\n",
        "    summ['#missing'] = df.isnull().sum().values\n",
        "    summ['Duplicate'] = df.duplicated().sum()\n",
        "    summ['#unique'] = df.nunique().values\n",
        "    desc = pd.DataFrame(df.describe(include='all').transpose())\n",
        "    summ['min'] = desc['min'].values\n",
        "    summ['max'] = desc['max'].values\n",
        "    summ['avg'] = desc['mean'].values\n",
        "    summ['std dev'] = desc['std'].values\n",
        "    summ['top value'] = desc['top'].values\n",
        "    summ['Freq'] = desc['freq'].values\n",
        "\n",
        "    return summ\n",
        "\n",
        "summary(crimes.drop(columns=[\"ID\"])).style.background_gradient()"
      ]
    },
    {
      "cell_type": "code",
      "execution_count": null,
      "metadata": {
        "colab": {
          "background_save": true
        },
        "id": "AqsnFFos7qau"
      },
      "outputs": [],
      "source": [
        "# Convert dates to pandas datetime format\n",
        "crimes['Date'] = pd.to_datetime(crimes['Date'], format='%m/%d/%Y %I:%M:%S %p')\n",
        "\n",
        "# Setting the index to be the date will help us later\n",
        "crimes.index = pd.DatetimeIndex(crimes['Date'])\n"
      ]
    },
    {
      "cell_type": "markdown",
      "metadata": {
        "id": "v6dePJK4vSeK"
      },
      "source": [
        "## <a name=\"p4\">Filtering out irrelevant features from the dataset.</a>"
      ]
    },
    {
      "cell_type": "code",
      "execution_count": null,
      "metadata": {
        "colab": {
          "background_save": true
        },
        "id": "bkGSmB3Nu-0M"
      },
      "outputs": [],
      "source": [
        "crimes.drop(['Case Number', 'IUCR','Updated On','Year', 'FBI Code', 'Beat','Ward','Community Area', 'Location'], inplace=True, axis=1)\n"
      ]
    },
    {
      "cell_type": "markdown",
      "metadata": {
        "id": "XYOwwQxO05fC"
      },
      "source": [
        "## <a name=\"p4\">Dropping missing/null values as they are accounting for <1% of data.</a>"
      ]
    },
    {
      "cell_type": "code",
      "execution_count": null,
      "metadata": {
        "colab": {
          "background_save": true
        },
        "id": "Nbk1-9G6u-2_"
      },
      "outputs": [],
      "source": [
        "crimes = crimes.dropna()"
      ]
    },
    {
      "cell_type": "code",
      "execution_count": null,
      "metadata": {
        "colab": {
          "background_save": true
        },
        "id": "d3brl35SlDdk"
      },
      "outputs": [],
      "source": [
        "crimes.shape"
      ]
    },
    {
      "cell_type": "code",
      "execution_count": null,
      "metadata": {
        "colab": {
          "background_save": true
        },
        "id": "Xocunj3gu-5c"
      },
      "outputs": [],
      "source": [
        "crimes['Primary Type'].value_counts()"
      ]
    },
    {
      "cell_type": "code",
      "execution_count": null,
      "metadata": {
        "colab": {
          "background_save": true
        },
        "id": "GZccIf5g1wZs"
      },
      "outputs": [],
      "source": [
        "crimes"
      ]
    },
    {
      "cell_type": "markdown",
      "metadata": {
        "id": "5lDLkWPbwgg_"
      },
      "source": [
        "## <a name=\"p4\">Reducing/merging number of crime types from 32 to 20.</a>"
      ]
    },
    {
      "cell_type": "code",
      "execution_count": null,
      "metadata": {
        "colab": {
          "background_save": true
        },
        "id": "wA2kbW1hu-8M"
      },
      "outputs": [],
      "source": [
        "# Removing these from primary type\n",
        "crimes = crimes[(crimes['Primary Type'] != 'NON-CRIMINAL (SUBJECT SPECIFIED)') &\n",
        "                (crimes['Primary Type'] != 'NON-CRIMINAL') &\n",
        "                (crimes['Primary Type'] != 'NON - CRIMINAL') &\n",
        "                (crimes['Primary Type'] != 'CONCEALED CARRY LICENSE VIOLATION') &\n",
        "                (crimes['Primary Type'] != 'DOMESTIC VIOLENCE') &\n",
        "                (crimes['Primary Type'] != 'PUBLIC INDECENCY') &\n",
        "                (crimes['Primary Type'] != 'OBSCENITY') &\n",
        "                (crimes['Primary Type'] != 'RITUALISM')]\n",
        "\n",
        "# Add this type, it is rare. --Haifeng"
      ]
    },
    {
      "cell_type": "code",
      "execution_count": null,
      "metadata": {
        "colab": {
          "background_save": true
        },
        "id": "oiej0IX9u--w"
      },
      "outputs": [],
      "source": [
        "def combinePrimaryTypes(targetDf):\n",
        "    '''\n",
        "    This function helps combine PRIMARY CRIME TYPES\n",
        "    '''\n",
        "    targetDf.loc[targetDf['Primary Type'] == 'OTHER NARCOTIC VIOLATION', 'Primary Type'] = 'NARCOTICS'\n",
        "    targetDf.loc[targetDf['Primary Type'].isin(['PROSTITUTION', 'CRIM SEXUAL ASSAULT']), 'Primary Type'] = 'SEX OFFENSE'\n",
        "    targetDf.loc[targetDf['Primary Type'].isin(['LIQUOR LAW VIOLATION', 'RITUALISM', 'GAMBLING']), 'Primary Type'] = 'OTHER OFFENSE'\n",
        "    targetDf.loc[targetDf['Primary Type'].isin(['CRIMINAL TRESPASS', 'ROBBERY']), 'Primary Type'] = 'ROBBERY'\n",
        "    targetDf.loc[targetDf['Primary Type'] == 'INTERFERENCE WITH PUBLIC OFFICER', 'Primary Type'] = 'PUBLIC PEACE VIOLATION'\n",
        "    targetDf.loc[targetDf['Primary Type'].isin(['INTIMIDATION', 'STALKING']), 'Primary Type'] = 'INTIMIDATION or STALKING'\n",
        "\n",
        "    return targetDf\n"
      ]
    },
    {
      "cell_type": "code",
      "execution_count": null,
      "metadata": {
        "colab": {
          "background_save": true
        },
        "id": "UkfNHv8Wu_BG"
      },
      "outputs": [],
      "source": [
        "crimes = combinePrimaryTypes(crimes)"
      ]
    },
    {
      "cell_type": "code",
      "execution_count": null,
      "metadata": {
        "colab": {
          "background_save": true
        },
        "id": "BuLw-ud_2Cnl",
        "outputId": "9327a9dc-3055-4051-9138-56adc7a42548"
      },
      "outputs": [
        {
          "data": {
            "text/plain": [
              "Primary Type\n",
              "THEFT                         1674783\n",
              "BATTERY                       1458373\n",
              "CRIMINAL DAMAGE                910586\n",
              "NARCOTICS                      740449\n",
              "ASSAULT                        526369\n",
              "OTHER OFFENSE                  523786\n",
              "ROBBERY                        518798\n",
              "BURGLARY                       429411\n",
              "MOTOR VEHICLE THEFT            397485\n",
              "DECEPTIVE PRACTICE             334839\n",
              "SEX OFFENSE                    125515\n",
              "WEAPONS VIOLATION              113726\n",
              "PUBLIC PEACE VIOLATION          71759\n",
              "OFFENSE INVOLVING CHILDREN      53537\n",
              "ARSON                           13642\n",
              "HOMICIDE                        13121\n",
              "INTIMIDATION or STALKING         9989\n",
              "CRIMINAL SEXUAL ASSAULT          7498\n",
              "KIDNAPPING                       7283\n",
              "HUMAN TRAFFICKING                  95\n",
              "Name: count, dtype: int64"
            ]
          },
          "execution_count": 22,
          "metadata": {},
          "output_type": "execute_result"
        }
      ],
      "source": [
        "crimes['Primary Type'].value_counts()"
      ]
    },
    {
      "cell_type": "markdown",
      "metadata": {
        "id": "dRlT3c9blqMm"
      },
      "source": [
        "## <a name=\"p4\">Truncating data to 1.25%</a>"
      ]
    },
    {
      "cell_type": "code",
      "execution_count": null,
      "metadata": {
        "colab": {
          "background_save": true
        },
        "id": "o4R8D-J6DIfG"
      },
      "outputs": [],
      "source": [
        "from sklearn.model_selection import train_test_split\n",
        "\n",
        "# Assuming 'target_column' is the column you want to maintain the composition of\n",
        "X = crimes.drop(columns=['Primary Type'])  # Features\n",
        "y = crimes['Primary Type']  # Target variable\n",
        "\n",
        "# Split the data into train and test sets (sampled_crimes will be the test set)\n",
        "_, crimes = train_test_split(crimes, test_size=0.0125, stratify=y, random_state=42)\n",
        "\n",
        "# Display the sampled DataFrame\n",
        "print(crimes)\n"
      ]
    },
    {
      "cell_type": "code",
      "execution_count": null,
      "metadata": {
        "colab": {
          "background_save": true
        },
        "id": "ymXz6KIh7B76"
      },
      "outputs": [],
      "source": [
        "loc_to_change  = list(crimes['Location Description'].value_counts()[20:].index)\n",
        "desc_to_change = list(crimes['Description'].value_counts()[20:].index)\n",
        "#type_to_change = list(crimes['Primary Type'].value_counts()[20:].index)\n",
        "\n",
        "crimes.loc[crimes['Location Description'].isin(loc_to_change) , crimes.columns=='Location Description'] = 'OTHER'\n",
        "crimes.loc[crimes['Description'].isin(desc_to_change) , crimes.columns=='Description'] = 'OTHER'\n",
        "#crimes.loc[crimes['Primary Type'].isin(type_to_change) , crimes.columns=='Primary Type'] = 'OTHER'"
      ]
    },
    {
      "cell_type": "code",
      "execution_count": null,
      "metadata": {
        "colab": {
          "background_save": true
        },
        "id": "ZClAW-e27CKP"
      },
      "outputs": [],
      "source": [
        "# we convert those 3 columns into 'Categorical' types -- works like 'factor' in R\n",
        "crimes['Primary Type']         = pd.Categorical(crimes['Primary Type'])\n",
        "crimes['Location Description'] = pd.Categorical(crimes['Location Description'])\n",
        "crimes['Description']          = pd.Categorical(crimes['Description'])"
      ]
    },
    {
      "cell_type": "markdown",
      "metadata": {
        "id": "pi6V8Zddl7ak"
      },
      "source": [
        "## <a name=\"p4\">Exploratory data analysis (EDA)</a>"
      ]
    },
    {
      "cell_type": "markdown",
      "metadata": {
        "id": "x3xSxJrnsq6c"
      },
      "source": [
        "# The EDA on the Chicago Crime dataset aims to uncover the distribution of crime types, identify hotspots for different crimes, analyze trends over time, assess arrest rates, and map crime density geospatially. This analysis will provide insights into crime patterns, locations, trends, law enforcement efforts, and spatial distribution within Chicago for informed decision-making and strategies."
      ]
    },
    {
      "cell_type": "code",
      "execution_count": null,
      "metadata": {
        "colab": {
          "background_save": true
        },
        "id": "1LulrUnb_HLI"
      },
      "outputs": [],
      "source": [
        "crime_types = crimes['Primary Type'].value_counts()\n",
        "# Calculate the total count\n",
        "total_count = crime_types.sum()\n",
        "\n",
        "# Calculate the percentage for each crime type\n",
        "crime_types_pct = crime_types / total_count * 100\n",
        "\n",
        "# Create a new Series with crime types above 1.5% threshold\n",
        "major_crime_types = crime_types_pct[crime_types_pct >= 1.5]\n",
        "\n",
        "# Group the remaining crime types as 'Others'\n",
        "others = crime_types_pct[crime_types_pct < 1.5].sum()\n",
        "if others > 0:\n",
        "    major_crime_types['Others'] = others\n",
        "\n",
        "# Create the pie chart\n",
        "fig, ax = plt.subplots(figsize=(10, 8))\n",
        "ax.pie(major_crime_types.values, labels=major_crime_types.index, autopct='%1.1f%%')\n",
        "ax.axis('equal')  # Ensure the pie chart is circular\n",
        "ax.set_title('Crime Types')\n",
        "\n",
        "plt.show()"
      ]
    },
    {
      "cell_type": "markdown",
      "metadata": {
        "id": "K_Tb45ZGnsku"
      },
      "source": [
        "#We can see that theft has occurred most frequently as it makes up of 21% of crime. Theft, battery, criminal damage, and narcotics are the most frequent occur crimes in Chicago which make up of 65.7% out of all the crimes."
      ]
    },
    {
      "cell_type": "code",
      "execution_count": null,
      "metadata": {
        "colab": {
          "background_save": true
        },
        "id": "DaEoAKOF5BVE"
      },
      "outputs": [],
      "source": [
        "plt.figure(figsize=(8,10))\n",
        "crimes.groupby([crimes['Primary Type']]).size().sort_values(ascending=True).plot(kind='barh')\n",
        "plt.title('Number of crimes by type')\n",
        "plt.ylabel('Crime Type')\n",
        "plt.xlabel('Number of crimes')\n",
        "plt.show()"
      ]
    },
    {
      "cell_type": "code",
      "execution_count": null,
      "metadata": {
        "colab": {
          "background_save": true
        },
        "id": "F7BljDxe5BXj"
      },
      "outputs": [],
      "source": [
        "plt.figure(figsize=(8,10))\n",
        "crimes.groupby([crimes['Location Description']]).size().sort_values(ascending=True).plot(kind='barh')\n",
        "plt.title('Number of crimes by Location')\n",
        "plt.ylabel('Crime Location')\n",
        "plt.xlabel('Number of crimes')\n",
        "plt.show()"
      ]
    },
    {
      "cell_type": "code",
      "execution_count": null,
      "metadata": {
        "colab": {
          "background_save": true
        },
        "id": "Nepd7es_Eand"
      },
      "outputs": [],
      "source": [
        "days = ['Monday','Tuesday','Wednesday',  'Thursday', 'Friday', 'Saturday', 'Sunday']\n",
        "crimes.groupby([crimes.index.dayofweek]).size().plot(kind='barh')\n",
        "plt.ylabel('Days of the week')\n",
        "plt.yticks(np.arange(7), days)\n",
        "plt.xlabel('Number of crimes')\n",
        "plt.title('Number of crimes by day of the week')\n",
        "plt.show()"
      ]
    },
    {
      "cell_type": "code",
      "execution_count": null,
      "metadata": {
        "colab": {
          "background_save": true
        },
        "id": "zD25Uq55Ee2-"
      },
      "outputs": [],
      "source": [
        "crimes.groupby([crimes.index.month]).size().plot(kind='barh')\n",
        "plt.ylabel('Months of the year')\n",
        "plt.xlabel('Number of crimes')\n",
        "plt.title('Number of crimes by month of the year')\n",
        "plt.show()"
      ]
    },
    {
      "cell_type": "markdown",
      "metadata": {
        "id": "Hj8JFKwKm7RY"
      },
      "source": [
        "#Crimes rates seem to peak at summer months"
      ]
    },
    {
      "cell_type": "code",
      "execution_count": null,
      "metadata": {
        "colab": {
          "background_save": true
        },
        "id": "f-IsrsrU9wNZ"
      },
      "outputs": [],
      "source": [
        "plt.figure(figsize=(11,5))\n",
        "crimes.resample('M').size().plot(legend=False)\n",
        "plt.title('Number of crimes per month (2001 - 2024)')\n",
        "plt.xlabel('Months')\n",
        "plt.ylabel('Number of crimes')\n",
        "plt.show()"
      ]
    },
    {
      "cell_type": "markdown",
      "metadata": {
        "id": "m9wAMQawoBOR"
      },
      "source": [
        "#This chart shows a clear \"periodic\" pattern in the crimes over many years."
      ]
    },
    {
      "cell_type": "code",
      "execution_count": null,
      "metadata": {
        "colab": {
          "background_save": true
        },
        "id": "b0Ub097e9wQT"
      },
      "outputs": [],
      "source": [
        "plt.figure(figsize=(11,4))\n",
        "crimes.resample('D').size().rolling(365).sum().plot()\n",
        "plt.title('Rolling sum of all crimes from 2005 - 2016')\n",
        "plt.ylabel('Number of crimes')\n",
        "plt.xlabel('Days')\n",
        "plt.show()"
      ]
    },
    {
      "cell_type": "markdown",
      "metadata": {
        "id": "L5Vj4-FDogWv"
      },
      "source": [
        "#We see the line decreasing from 2006 up to some point around 2016 after which it stays around the same number of crimes. This all means that 2016 is really no better than 2015, but both years show a much better crime record (in total) than the previous years. Then there is sudden drop in number of cases around 2020, then is began to rize up again"
      ]
    },
    {
      "cell_type": "code",
      "execution_count": null,
      "metadata": {
        "colab": {
          "background_save": true
        },
        "id": "4JXGSCm89wSW"
      },
      "outputs": [],
      "source": [
        "crimes_count_date = crimes.pivot_table('ID', aggfunc=np.size, columns='Primary Type', index=crimes.index.date, fill_value=0)\n",
        "crimes_count_date.index = pd.DatetimeIndex(crimes_count_date.index)\n",
        "plo = crimes_count_date.rolling(365).sum().plot(figsize=(12, 30), subplots=True, layout=(-1, 3), sharex=False, sharey=False)"
      ]
    },
    {
      "cell_type": "code",
      "execution_count": null,
      "metadata": {
        "colab": {
          "background_save": true
        },
        "id": "CWgsuRbdF-Lk"
      },
      "outputs": [],
      "source": [
        "import pandas as pd\n",
        "import matplotlib.pyplot as plt\n",
        "\n",
        "# Extract the year from the 'date' column\n",
        "crimes['year'] = pd.to_datetime(crimes['Date']).dt.year\n",
        "\n",
        "# Group the data by year and Primary Type, and count the occurrences\n",
        "crime_counts = crimes.groupby(['year', 'Primary Type']).size().reset_index(name='count')\n",
        "\n",
        "# Pivot the data to create a wide format for plotting\n",
        "crime_counts = crime_counts.pivot(index='year', columns='Primary Type', values='count').fillna(0)\n",
        "\n",
        "# Create a color map for crime types\n",
        "crime_colors = plt.cm.get_cmap('tab20', len(crime_counts.columns))\n",
        "color_map = {col: crime_colors(i) for i, col in enumerate(crime_counts.columns)}\n",
        "\n",
        "# Plot the data\n",
        "fig, ax = plt.subplots(figsize=(12, 8))\n",
        "crime_counts.plot(ax=ax, kind='line', color=[color_map[col] for col in crime_counts.columns])\n",
        "\n",
        "# Add legend\n",
        "legend_labels = crime_counts.columns.tolist()\n",
        "legend_colors = [color_map[col] for col in crime_counts.columns]\n",
        "ax.legend(legend_labels, bbox_to_anchor=(1.02, 1), loc='upper left', ncol=1, fancybox=True, shadow=True)\n",
        "\n",
        "# Adjust plot settings\n",
        "ax.set_xlabel('Year')\n",
        "ax.set_ylabel('Crime Count')\n",
        "ax.set_title('The trend of crime types across the years')\n",
        "plt.xticks(rotation=45)\n",
        "plt.tight_layout()\n",
        "plt.show()"
      ]
    },
    {
      "cell_type": "markdown",
      "metadata": {
        "id": "6mWFbdUHpSpu"
      },
      "source": [
        "#Above graphs reflected an average trend toward decreasing crimes. But it is not the case. Some crime types are actually increasing all along like homicide and deceptive practice. Other types started to increase slightly before 2016 like theft, robbery and stalking (which may be the reason behind the trend we saw earlier)."
      ]
    },
    {
      "cell_type": "code",
      "execution_count": null,
      "metadata": {
        "colab": {
          "background_save": true
        },
        "id": "Eu3Cr_i6OTPU"
      },
      "outputs": [],
      "source": [
        "import seaborn as sns"
      ]
    },
    {
      "cell_type": "code",
      "execution_count": null,
      "metadata": {
        "colab": {
          "background_save": true
        },
        "id": "bCY-QuJuTuLu"
      },
      "outputs": [],
      "source": [
        "import pandas as pd\n",
        "import matplotlib.pyplot as plt\n",
        "import seaborn as sns\n",
        "\n",
        "# Assuming crimes is your DataFrame\n",
        "\n",
        "# Select only the numeric columns\n",
        "numeric_crimes = crimes.select_dtypes(include=['float64', 'int64'])\n",
        "\n",
        "plt.figure(figsize=(10, 8))  # Set the figure size\n",
        "\n",
        "# Compute the correlation matrix for numeric columns and plot the heatmap\n",
        "sns.heatmap(data=numeric_crimes.corr(), annot=True, fmt=\".2f\", linewidth=0.5, cmap=\"Blues\")\n",
        "\n",
        "plt.show()\n"
      ]
    },
    {
      "cell_type": "code",
      "execution_count": null,
      "metadata": {
        "colab": {
          "background_save": true
        },
        "id": "HXSF43pC-VV0"
      },
      "outputs": [],
      "source": [
        "import pandas as pd\n",
        "import matplotlib.pyplot as plt\n",
        "\n",
        "# Load your dataset\n",
        "# crimes = pd.read_csv('/content/drive/MyDrive/bda/chicago_crime_dataset_bda.csv', parse_dates=['Date'])\n",
        "\n",
        "# Convert the 'Date' column to datetime objects\n",
        "crimes['Date'] = pd.to_datetime(crimes['Date'])\n",
        "\n",
        "# Extract the year from the 'Date' column\n",
        "crimes['Year'] = crimes['Date'].dt.year\n",
        "\n",
        "# Filter data for the years 2006 to 2013\n",
        "filtered_crimes = crimes[(crimes['Year'] >= 2006) & (crimes['Year'] <= 2013)]\n",
        "\n",
        "# Group the filtered data by year and count the 'Primary Type' and sum the 'Arrested' column\n",
        "grouped_crimes = filtered_crimes.groupby('Year')[['Primary Type', 'Arrest']].agg({'Primary Type': 'count', 'Arrest': 'sum'}).reset_index()\n",
        "\n",
        "# Create a plot with two y-axes\n",
        "fig, ax1 = plt.subplots(figsize=(10, 6))\n",
        "\n",
        "# Plot the total crimes on the first y-axis\n",
        "color = 'tab:blue'\n",
        "ax1.set_xlabel('Year')\n",
        "ax1.set_ylabel('Total Crimes', color=color)\n",
        "ax1.bar(grouped_crimes['Year'], grouped_crimes['Primary Type'], color=color, label='Total Crimes')\n",
        "ax1.tick_params(axis='y', labelcolor=color)\n",
        "\n",
        "# Create a second y-axis for the number of arrests\n",
        "ax2 = ax1.twinx()\n",
        "color = 'tab:orange'\n",
        "ax2.set_ylabel('Number of Arrests', color=color)\n",
        "ax2.plot(grouped_crimes['Year'], grouped_crimes['Arrest'], color=color, marker='o', label='Number of Arrests')\n",
        "ax2.tick_params(axis='y', labelcolor=color)\n",
        "\n",
        "# Add legends\n",
        "fig.tight_layout()\n",
        "fig.legend(loc='upper left')\n",
        "\n",
        "plt.title('Comparison of Total Crimes and Number of Arrests (2006-2013)')\n",
        "plt.show()"
      ]
    },
    {
      "cell_type": "markdown",
      "metadata": {
        "id": "kS62yyJhHn1U"
      },
      "source": [
        "##Model random forest"
      ]
    },
    {
      "cell_type": "code",
      "execution_count": null,
      "metadata": {
        "colab": {
          "background_save": true
        },
        "id": "Kn3CXlywHnA6"
      },
      "outputs": [],
      "source": [
        "crimes['Primary Type'].unique()"
      ]
    },
    {
      "cell_type": "code",
      "execution_count": null,
      "metadata": {
        "colab": {
          "background_save": true
        },
        "id": "S01c6JWbsQJ5"
      },
      "outputs": [],
      "source": [
        "crimes"
      ]
    },
    {
      "cell_type": "code",
      "execution_count": null,
      "metadata": {
        "colab": {
          "background_save": true
        },
        "id": "YvPzYf1QbACa"
      },
      "outputs": [],
      "source": [
        "crimes = crimes.drop(columns = ['Date', 'ID', 'Latitude', 'Longitude', 'year'])"
      ]
    },
    {
      "cell_type": "code",
      "execution_count": null,
      "metadata": {
        "colab": {
          "background_save": true
        },
        "id": "BqDbEsfMjWCr"
      },
      "outputs": [],
      "source": [
        "crimes"
      ]
    },
    {
      "cell_type": "code",
      "execution_count": null,
      "metadata": {
        "colab": {
          "background_save": true
        },
        "id": "3AvWX3vpjWnt"
      },
      "outputs": [],
      "source": [
        "crimes = crimes.drop(columns = ['Block'])"
      ]
    },
    {
      "cell_type": "code",
      "execution_count": null,
      "metadata": {
        "colab": {
          "background_save": true
        },
        "id": "TEk-CdQ9j0Oj"
      },
      "outputs": [],
      "source": [
        "crimes = pd.get_dummies(crimes, columns=['Description', 'Location Description', 'Arrest', 'Domestic'], drop_first=True)"
      ]
    },
    {
      "cell_type": "code",
      "execution_count": null,
      "metadata": {
        "colab": {
          "background_save": true
        },
        "id": "k5kgLFfsk6ZO"
      },
      "outputs": [],
      "source": [
        "crimes"
      ]
    },
    {
      "cell_type": "code",
      "execution_count": null,
      "metadata": {
        "colab": {
          "background_save": true
        },
        "id": "amYAX8-wrhDN"
      },
      "outputs": [],
      "source": [
        "crimes = crimes[crimes['Primary Type'] != \"HUMAN TRAFFICKING\"]"
      ]
    },
    {
      "cell_type": "code",
      "execution_count": null,
      "metadata": {
        "colab": {
          "background_save": true
        },
        "id": "exboQ25Zrqtr"
      },
      "outputs": [],
      "source": [
        "crimes['Primary Type'].unique()"
      ]
    },
    {
      "cell_type": "code",
      "execution_count": null,
      "metadata": {
        "colab": {
          "background_save": true
        },
        "id": "guY-5Svck7nr"
      },
      "outputs": [],
      "source": [
        "import matplotlib.pyplot as plt\n",
        "import seaborn as sns\n",
        "from sklearn.model_selection import train_test_split\n",
        "\n",
        "X = crimes.drop('Primary Type',axis=1)\n",
        "y = crimes['Primary Type']\n",
        "\n",
        "# Function to display feature importance\n",
        "def display_feature_importance(model, top_n=34,percentage=3, plot=True):\n",
        "    # Fit the model\n",
        "    model.fit(X, y)\n",
        "\n",
        "    # Get feature importance\n",
        "    feature_importance = model.feature_importances_\n",
        "    feature_names = X.columns\n",
        "\n",
        "    # Create a DataFrame for better visualization\n",
        "    feature_importance_df = pd.DataFrame({'Feature': feature_names, 'Importance': feature_importance})\n",
        "\n",
        "    # Sort features by importance\n",
        "    feature_importance_df = feature_importance_df.sort_values(by='Importance', ascending=False)\n",
        "\n",
        "    # Calculate threshold based on percentage of the top feature importance\n",
        "    threshold = percentage / 100 * feature_importance_df.iloc[0]['Importance']\n",
        "\n",
        "    # Select features that meet the threshold\n",
        "    selected_features = feature_importance_df[feature_importance_df['Importance'] >= threshold]['Feature'].tolist()\n",
        "\n",
        "    if plot==True:\n",
        "        # Set seaborn color palette to \"viridis\"\n",
        "        sns.set(style=\"whitegrid\", palette=\"viridis\")\n",
        "\n",
        "        # Display or plot the top features\n",
        "        plt.figure(figsize=(10, 6))\n",
        "        sns.barplot(x='Importance', y='Feature', data=feature_importance_df.head(top_n))\n",
        "        plt.title('Feature Importance for {}'.format(type(model).__name__))\n",
        "        plt.show()\n",
        "\n",
        "        print(\"Selected Features at threshold {}%; {}\".format(percentage,selected_features))\n",
        "\n",
        "    # Add 'smoking' to the list of selected features\n",
        "    selected_features.append('Primary Type')\n",
        "\n",
        "    return selected_features"
      ]
    },
    {
      "cell_type": "code",
      "execution_count": null,
      "metadata": {
        "colab": {
          "background_save": true
        },
        "id": "xqAf3zITphZ2"
      },
      "outputs": [],
      "source": [
        "# from sklearn.preprocessing import label_binarize\n",
        "\n",
        "# # Binarize y_test to get a better handle on classes\n",
        "# classes = np.unique(y_train)\n",
        "# y_test_binarized = label_binarize(y_test, classes=classes)\n",
        "\n",
        "# print(\"Unique classes in training:\", classes)\n",
        "# print(\"Predicted probability shape:\", adaboost_pred_proba.shape)\n",
        "# print(\"Binarized y_test shape:\", y_test_binarized.shape)\n"
      ]
    },
    {
      "cell_type": "code",
      "execution_count": null,
      "metadata": {
        "colab": {
          "background_save": true
        },
        "id": "MI6cyV57lnPf"
      },
      "outputs": [],
      "source": [
        "from sklearn.ensemble import AdaBoostClassifier\n",
        "from sklearn.model_selection import train_test_split\n",
        "from sklearn.metrics import roc_auc_score\n",
        "\n",
        "# Assuming you have your training data (X, y)\n",
        "# Splitting the data for training and testing\n",
        "X_train, X_test, y_train, y_test = train_test_split(X, y, test_size=0.7, random_state=42, stratify = y)\n",
        "\n",
        "# List to store AUC scores for each trial percentage\n",
        "auc_scores_adaboost = []\n",
        "\n",
        "# List to store selected features for AdaBoost and trial percentage\n",
        "selected_features_adaboost = []\n",
        "\n",
        "# List of trial percentages\n",
        "trial_percentages_adaboost = [0, 2, 4, 6, 8, 10, 12, 14, 16, 18, 22, 26, 30]\n",
        "\n",
        "# Loop over each trial percentage\n",
        "for percentage_adaboost in trial_percentages_adaboost:\n",
        "    # Get selected features for AdaBoost\n",
        "    adaboost_selected_features = display_feature_importance(AdaBoostClassifier(), percentage=percentage_adaboost)\n",
        "\n",
        "    # Append selected features to the list\n",
        "    selected_features_adaboost.append(adaboost_selected_features)\n",
        "\n",
        "    # Ensure selected features are present in training data\n",
        "    adaboost_selected_features = [feature for feature in adaboost_selected_features if feature in X_train.columns]\n",
        "\n",
        "    # Check if any features are selected\n",
        "    if len(adaboost_selected_features) == 0:\n",
        "        continue\n",
        "\n",
        "    # Initialize and fit AdaBoost model on training data\n",
        "    adaboost_model = AdaBoostClassifier()\n",
        "    adaboost_model.fit(X_train[adaboost_selected_features], y_train)\n",
        "\n",
        "    # Predict probabilities on the test set\n",
        "    adaboost_pred_proba = adaboost_model.predict_proba(X_test[adaboost_selected_features])\n",
        "\n",
        "    print(len(adaboost_pred_proba), len(y_test))\n",
        "\n",
        "    # Calculate AUC score for each class\n",
        "    auc_adaboost = roc_auc_score(y_test, adaboost_pred_proba, average='macro', multi_class = 'ovr')\n",
        "    auc_scores_adaboost.append(auc_adaboost)\n",
        "\n",
        "# Plotting for AdaBoost\n",
        "fig, ax = plt.subplots(figsize=(12, 8))\n",
        "\n",
        "# Plotting line for AdaBoost\n",
        "plt.plot(trial_percentages_adaboost, auc_scores_adaboost, label='AdaBoost', marker='o', color='orange')\n",
        "\n",
        "plt.xlabel('Trial Percentages')\n",
        "plt.ylabel('AUC Score')\n",
        "plt.title('AdaBoost Model Performance for Different Feature Selection Percentages')\n",
        "plt.legend()\n",
        "plt.show()"
      ]
    },
    {
      "cell_type": "code",
      "execution_count": null,
      "metadata": {
        "colab": {
          "background_save": true
        },
        "id": "fuRpOpIcpP00"
      },
      "outputs": [],
      "source": [
        "adaboost_model = AdaBoostClassifier()\n",
        "\n",
        "# Display feature importance and plot\n",
        "selected_features_adaboost = display_feature_importance(adaboost_model, top_n=30, percentage=0, plot = True)"
      ]
    },
    {
      "cell_type": "code",
      "execution_count": null,
      "metadata": {
        "colab": {
          "background_save": true
        },
        "id": "hVfZjgEJzgjH"
      },
      "outputs": [],
      "source": [
        "pip install optuna"
      ]
    },
    {
      "cell_type": "code",
      "execution_count": null,
      "metadata": {
        "colab": {
          "background_save": true
        },
        "id": "bVDcczCTz4ql"
      },
      "outputs": [],
      "source": [
        "pip install cmaes"
      ]
    },
    {
      "cell_type": "code",
      "execution_count": null,
      "metadata": {
        "colab": {
          "background_save": true
        },
        "id": "iD_vW_Osy5lN"
      },
      "outputs": [],
      "source": [
        "# # ADABOOST HYPERPARAMETER\n",
        "# import optuna\n",
        "# from sklearn.tree import DecisionTreeClassifier\n",
        "# from sklearn.ensemble import AdaBoostClassifier\n",
        "# from sklearn.metrics import accuracy_score\n",
        "# from sklearn.model_selection import train_test_split\n",
        "# from sklearn.preprocessing import LabelEncoder, OneHotEncoder\n",
        "# import pandas as pd\n",
        "\n",
        "# X_train, X_val, y_train, y_val = train_test_split(X, y, test_size=0.3, random_state=42)\n",
        "\n",
        "# # # Initialize the label encoder\n",
        "# label_encoder = LabelEncoder()\n",
        "\n",
        "# # Fit and transform the target variable\n",
        "# y_train_encoded = label_encoder.fit_transform(y_train)\n",
        "# y_val_encoded = label_encoder.transform(y_val)\n",
        "\n",
        "# # Define the objective function to optimize\n",
        "# def objective(trial):\n",
        "#     # Define hyperparameters to search\n",
        "#     adaboost_params = {\n",
        "#         'n_estimators': trial.suggest_int('n_estimators', 50, 1000),\n",
        "#         'learning_rate': trial.suggest_float('learning_rate', 0.01, 1.0),\n",
        "#         # Additional hyperparameters can be added based on your requirements\n",
        "#     }\n",
        "\n",
        "#     # Initialize DecisionTreeClassifier with parameters suggested by Optuna\n",
        "#     tree_params = {\n",
        "#         'splitter': trial.suggest_categorical('splitter', ['best', 'random']),\n",
        "#         'max_depth': trial.suggest_int('max_depth', 1, 10),\n",
        "#     }\n",
        "\n",
        "#     base_estimator = DecisionTreeClassifier(**tree_params)\n",
        "\n",
        "#     # Initialize AdaBoost classifier with the base estimator\n",
        "#     model = AdaBoostClassifier(base_estimator=base_estimator, **adaboost_params, random_state=42)\n",
        "\n",
        "#     # Fit the model\n",
        "#     model.fit(X_train, y_train_encoded)\n",
        "\n",
        "#     # Predict on the validation set\n",
        "#     y_pred_encoded = model.predict(X_val)\n",
        "\n",
        "#     # Decode the predictions back to original labels\n",
        "#     y_pred = label_encoder.inverse_transform(y_pred_encoded)\n",
        "\n",
        "#     # Calculate accuracy\n",
        "#     accuracy = accuracy_score(y_val, y_pred)\n",
        "\n",
        "#     return accuracy\n",
        "\n",
        "# # Define study\n",
        "# study = optuna.create_study(direction='maximize', sampler=optuna.samplers.CmaEsSampler())\n",
        "\n",
        "# # Optimize hyperparameters\n",
        "# study.optimize(objective, n_trials=20, show_progress_bar = True)\n",
        "\n",
        "# best_params = study.best_params\n",
        "\n",
        "# print(best_params)"
      ]
    },
    {
      "cell_type": "code",
      "execution_count": null,
      "metadata": {
        "colab": {
          "background_save": true
        },
        "id": "2FOuthuZPH8W"
      },
      "outputs": [],
      "source": [
        "# ADABOOST\n",
        "from sklearn.ensemble import AdaBoostClassifier\n",
        "from sklearn.datasets import make_classification\n",
        "from sklearn.tree import DecisionTreeClassifier\n",
        "\n",
        "# adaboost_params = {'n_estimators': 367, 'learning_rate': 0.2687183224582479} #v1\n",
        "# best_base_estimator_params = {'splitter': 'random', 'max_depth': 2} #v1\n",
        "\n",
        "adaboost_params = {'n_estimators': 910, 'learning_rate': 0.8135287583324838}\n",
        "best_base_estimator_params = {'splitter': 'best', 'max_depth': 10}\n",
        "base_estimator = DecisionTreeClassifier(**best_base_estimator_params)\n",
        "adaboost = AdaBoostClassifier(base_estimator=base_estimator, **adaboost_params, random_state=42)"
      ]
    },
    {
      "cell_type": "code",
      "execution_count": null,
      "metadata": {
        "colab": {
          "background_save": true
        },
        "id": "rP1UGe39UKis"
      },
      "outputs": [],
      "source": [
        "from sklearn.preprocessing import LabelEncoder\n",
        "\n",
        "# Encode the target variable\n",
        "label_encoder = LabelEncoder()\n",
        "y = label_encoder.fit_transform(y_train)\n",
        "# crimes[selected_features_adaboost].drop('Primary Type', axis = 1)\n",
        "# Create and fit the AdaBoostClassifier\n",
        "# crimes[selected_features_adaboost]\n",
        "# selected_features_adaboost\n",
        "\n",
        "model = AdaBoostClassifier(base_estimator=base_estimator, **adaboost_params, random_state=42)\n",
        "model.fit(X_train, y)\n",
        "\n",
        "# Make predictions on the test set\n",
        "# y_pred_encoded = model.predict(test[[feature for feature in selected_features_adaboost if feature != 'Primary Type']])"
      ]
    },
    {
      "cell_type": "code",
      "execution_count": null,
      "metadata": {
        "colab": {
          "background_save": true
        },
        "id": "r6tAGre4UKlH",
        "outputId": "ed8f5553-d48f-48cb-be08-99e8b2dc5cbd"
      },
      "outputs": [
        {
          "name": "stdout",
          "output_type": "stream",
          "text": [
            "Classification Report:\n"
          ]
        },
        {
          "name": "stderr",
          "output_type": "stream",
          "text": [
            "/usr/local/lib/python3.10/dist-packages/sklearn/metrics/_classification.py:1344: UndefinedMetricWarning: Precision and F-score are ill-defined and being set to 0.0 in labels with no predicted samples. Use `zero_division` parameter to control this behavior.\n",
            "  _warn_prf(average, modifier, msg_start, len(result))\n",
            "/usr/local/lib/python3.10/dist-packages/sklearn/metrics/_classification.py:1344: UndefinedMetricWarning: Precision and F-score are ill-defined and being set to 0.0 in labels with no predicted samples. Use `zero_division` parameter to control this behavior.\n",
            "  _warn_prf(average, modifier, msg_start, len(result))\n"
          ]
        },
        {
          "name": "stdout",
          "output_type": "stream",
          "text": [
            "                            precision    recall  f1-score   support\n",
            "\n",
            "                     ARSON       0.60      0.03      0.05       119\n",
            "                   ASSAULT       0.47      0.16      0.24      4606\n",
            "                   BATTERY       0.70      0.87      0.78     12761\n",
            "                  BURGLARY       1.00      0.93      0.96      3758\n",
            "           CRIMINAL DAMAGE       0.97      0.94      0.96      7967\n",
            "   CRIMINAL SEXUAL ASSAULT       0.00      0.00      0.00        66\n",
            "        DECEPTIVE PRACTICE       0.47      0.60      0.52      2930\n",
            "                  HOMICIDE       0.00      0.00      0.00       115\n",
            "  INTIMIDATION or STALKING       0.00      0.00      0.00        87\n",
            "                KIDNAPPING       1.00      0.02      0.03        64\n",
            "       MOTOR VEHICLE THEFT       0.89      0.82      0.85      3478\n",
            "                 NARCOTICS       0.71      0.91      0.80      6479\n",
            "OFFENSE INVOLVING CHILDREN       0.43      0.01      0.02       468\n",
            "             OTHER OFFENSE       0.60      0.55      0.57      4583\n",
            "    PUBLIC PEACE VIOLATION       0.19      0.01      0.02       628\n",
            "                   ROBBERY       0.67      0.62      0.64      4540\n",
            "               SEX OFFENSE       0.73      0.19      0.30      1098\n",
            "                     THEFT       0.84      0.94      0.89     14655\n",
            "         WEAPONS VIOLATION       0.35      0.14      0.20       995\n",
            "\n",
            "                  accuracy                           0.76     69397\n",
            "                 macro avg       0.56      0.41      0.41     69397\n",
            "              weighted avg       0.74      0.76      0.73     69397\n",
            "\n"
          ]
        },
        {
          "name": "stderr",
          "output_type": "stream",
          "text": [
            "/usr/local/lib/python3.10/dist-packages/sklearn/metrics/_classification.py:1344: UndefinedMetricWarning: Precision and F-score are ill-defined and being set to 0.0 in labels with no predicted samples. Use `zero_division` parameter to control this behavior.\n",
            "  _warn_prf(average, modifier, msg_start, len(result))\n"
          ]
        }
      ],
      "source": [
        "from sklearn.metrics import classification_report\n",
        "y_pred_encoded = model.predict(X_test)\n",
        "\n",
        "# Decode predictions back to original labels\n",
        "y_pred = label_encoder.inverse_transform(y_pred_encoded)\n",
        "\n",
        "# Print classification report\n",
        "print(\"Classification Report:\")\n",
        "print(classification_report(y_test, y_pred))"
      ]
    },
    {
      "cell_type": "code",
      "execution_count": null,
      "metadata": {
        "colab": {
          "background_save": true
        },
        "id": "r7YrkEkFmCpc"
      },
      "outputs": [],
      "source": [
        "# import optuna\n",
        "# import xgboost as xgb\n",
        "# from sklearn.tree import DecisionTreeClassifier\n",
        "# from sklearn.ensemble import AdaBoostClassifier\n",
        "# from sklearn.metrics import accuracy_score\n",
        "# from sklearn.model_selection import train_test_split\n",
        "# from sklearn.preprocessing import LabelEncoder, OneHotEncoder\n",
        "# import pandas as pd\n",
        "\n",
        "# X_train, X_val, y_train, y_val = train_test_split(X, y, test_size=0.3, random_state=42)\n",
        "\n",
        "# # # Initialize the label encoder\n",
        "# label_encoder = LabelEncoder()\n",
        "\n",
        "# # Fit and transform the target variable\n",
        "# y_train_encoded = label_encoder.fit_transform(y_train)\n",
        "# y_val_encoded = label_encoder.transform(y_val)\n",
        "\n",
        "# # Define the objective function to optimize\n",
        "# def objective(trial):\n",
        "#     # Define hyperparameters to search\n",
        "#     params = {\n",
        "#         'max_depth': trial.suggest_int('max_depth', 3, 10),\n",
        "#         'learning_rate': trial.suggest_loguniform('learning_rate', 0.01, 0.5),\n",
        "#         'n_estimators': trial.suggest_int('n_estimators', 100, 1000),\n",
        "#         'gamma': trial.suggest_loguniform('gamma', 1e-8, 1.0),\n",
        "#         'min_child_weight': trial.suggest_loguniform('min_child_weight', 1e-8, 1.0),\n",
        "#         'subsample': trial.suggest_uniform('subsample', 0.5, 1.0),\n",
        "#         'colsample_bytree': trial.suggest_uniform('colsample_bytree', 0.5, 1.0),\n",
        "#         'reg_alpha': trial.suggest_loguniform('reg_alpha', 1e-8, 1.0),\n",
        "#         'reg_lambda': trial.suggest_uniform('reg_lambda', 0.0, 1.0)\n",
        "#     }\n",
        "\n",
        "#     # Initialize XGBoost classifier\n",
        "#     model = xgb.XGBClassifier(**params, eval_metric='mlogloss')\n",
        "\n",
        "#     # Fit the model\n",
        "#     model.fit(X_train, y_train_encoded)\n",
        "\n",
        "#     # Predict on the validation set\n",
        "#     y_pred_encoded = model.predict(X_val)\n",
        "\n",
        "#     # Decode the predictions back to original labels\n",
        "#     y_pred = label_encoder.inverse_transform(y_pred_encoded)\n",
        "\n",
        "#     # Calculate accuracy\n",
        "#     accuracy = accuracy_score(y_val, y_pred)\n",
        "\n",
        "#     return accuracy\n",
        "\n",
        "# # Define study\n",
        "# study = optuna.create_study(direction='maximize', sampler=optuna.samplers.CmaEsSampler())\n",
        "\n",
        "# # Optimize hyperparameters\n",
        "# study.optimize(objective, n_trials=100, show_progress_bar = True)\n",
        "\n",
        "# best_params = study.best_params\n",
        "# best_params['eval_metric'] = 'mlogloss'\n",
        "\n",
        "# print(best_params)"
      ]
    },
    {
      "cell_type": "code",
      "execution_count": null,
      "metadata": {
        "colab": {
          "background_save": true
        },
        "id": "xAxIIzLemDQa"
      },
      "outputs": [],
      "source": [
        "best_params = {'max_depth': 4, 'learning_rate': 0.0779066477789779, 'n_estimators': 476, 'gamma': 0.0005911097817824864, 'min_child_weight': 0.00036671924431171436, 'subsample': 0.7209603514105916, 'colsample_bytree': 0.5365746437670638, 'reg_alpha': 8.135325864945739e-08, 'reg_lambda': 0.6636375034403076, 'eval_metric': 'mlogloss'}"
      ]
    },
    {
      "cell_type": "code",
      "execution_count": null,
      "metadata": {
        "colab": {
          "background_save": true
        },
        "id": "Eo-5qaotmDSr"
      },
      "outputs": [],
      "source": [
        "import xgboost as xgb\n",
        "y = label_encoder.fit_transform(y_train)\n",
        "final_model = xgb.XGBClassifier(**best_params)\n",
        "final_model.fit(X_train, y)\n",
        "\n",
        "y_pred_encoded = final_model.predict(X_test)"
      ]
    },
    {
      "cell_type": "code",
      "execution_count": null,
      "metadata": {
        "colab": {
          "background_save": true
        },
        "id": "lMT0Zqg2mDVH",
        "outputId": "3d7761be-e132-4455-9d2f-ac6ac5584b9e"
      },
      "outputs": [
        {
          "name": "stdout",
          "output_type": "stream",
          "text": [
            "Classification Report:\n",
            "                            precision    recall  f1-score   support\n",
            "\n",
            "                     ARSON       0.38      0.20      0.26       119\n",
            "                   ASSAULT       0.58      0.29      0.39      4606\n",
            "                   BATTERY       0.79      0.84      0.81     12761\n",
            "                  BURGLARY       0.99      0.95      0.97      3758\n",
            "           CRIMINAL DAMAGE       0.97      0.94      0.96      7967\n",
            "   CRIMINAL SEXUAL ASSAULT       0.00      0.00      0.00        66\n",
            "        DECEPTIVE PRACTICE       0.43      0.76      0.55      2930\n",
            "                  HOMICIDE       0.00      0.00      0.00       115\n",
            "  INTIMIDATION or STALKING       0.00      0.00      0.00        87\n",
            "                KIDNAPPING       0.22      0.03      0.05        64\n",
            "       MOTOR VEHICLE THEFT       0.79      0.88      0.84      3478\n",
            "                 NARCOTICS       0.71      0.92      0.80      6479\n",
            "OFFENSE INVOLVING CHILDREN       0.23      0.18      0.20       468\n",
            "             OTHER OFFENSE       0.70      0.62      0.66      4583\n",
            "    PUBLIC PEACE VIOLATION       0.15      0.07      0.09       628\n",
            "                   ROBBERY       0.76      0.72      0.74      4540\n",
            "               SEX OFFENSE       0.50      0.34      0.40      1098\n",
            "                     THEFT       0.97      0.93      0.95     14655\n",
            "         WEAPONS VIOLATION       0.31      0.18      0.23       995\n",
            "\n",
            "                  accuracy                           0.79     69397\n",
            "                 macro avg       0.50      0.47      0.47     69397\n",
            "              weighted avg       0.79      0.79      0.78     69397\n",
            "\n"
          ]
        }
      ],
      "source": [
        "y_pred = label_encoder.inverse_transform(y_pred_encoded)\n",
        "\n",
        "# Print classification report\n",
        "print(\"Classification Report:\")\n",
        "print(classification_report(y_test, y_pred))"
      ]
    },
    {
      "cell_type": "code",
      "execution_count": null,
      "metadata": {
        "colab": {
          "background_save": true
        },
        "id": "lDD68fbrUKqM",
        "outputId": "ce763f0b-c71f-4f0d-d27f-503005848545"
      },
      "outputs": [
        {
          "name": "stderr",
          "output_type": "stream",
          "text": [
            "/usr/local/lib/python3.10/dist-packages/sklearn/metrics/_classification.py:1344: UndefinedMetricWarning: Precision and F-score are ill-defined and being set to 0.0 in labels with no predicted samples. Use `zero_division` parameter to control this behavior.\n",
            "  _warn_prf(average, modifier, msg_start, len(result))\n",
            "/usr/local/lib/python3.10/dist-packages/sklearn/metrics/_classification.py:1344: UndefinedMetricWarning: Precision and F-score are ill-defined and being set to 0.0 in labels with no predicted samples. Use `zero_division` parameter to control this behavior.\n",
            "  _warn_prf(average, modifier, msg_start, len(result))\n"
          ]
        },
        {
          "name": "stdout",
          "output_type": "stream",
          "text": [
            "Logistic Regression Model Evaluation:\n",
            "Accuracy: 0.2262922028329755\n",
            "\n",
            "Classification Report:\n",
            "                            precision    recall  f1-score   support\n",
            "\n",
            "                     ARSON       0.00      0.00      0.00       119\n",
            "                   ASSAULT       0.00      0.00      0.00      4606\n",
            "                   BATTERY       0.21      0.36      0.27     12761\n",
            "                  BURGLARY       0.00      0.00      0.00      3758\n",
            "           CRIMINAL DAMAGE       0.00      0.00      0.00      7967\n",
            "   CRIMINAL SEXUAL ASSAULT       0.00      0.00      0.00        66\n",
            "        DECEPTIVE PRACTICE       0.00      0.00      0.00      2930\n",
            "                  HOMICIDE       0.00      0.00      0.00       115\n",
            "  INTIMIDATION or STALKING       0.00      0.00      0.00        87\n",
            "                KIDNAPPING       0.00      0.00      0.00        64\n",
            "       MOTOR VEHICLE THEFT       0.00      0.00      0.00      3478\n",
            "                 NARCOTICS       0.00      0.00      0.00      6479\n",
            "OFFENSE INVOLVING CHILDREN       0.00      0.00      0.00       468\n",
            "             OTHER OFFENSE       0.00      0.00      0.00      4583\n",
            "    PUBLIC PEACE VIOLATION       0.00      0.00      0.00       628\n",
            "                   ROBBERY       0.00      0.00      0.00      4540\n",
            "               SEX OFFENSE       0.00      0.00      0.00      1098\n",
            "                     THEFT       0.23      0.76      0.36     14655\n",
            "         WEAPONS VIOLATION       0.00      0.00      0.00       995\n",
            "\n",
            "                  accuracy                           0.23     69397\n",
            "                 macro avg       0.02      0.06      0.03     69397\n",
            "              weighted avg       0.09      0.23      0.12     69397\n",
            "\n"
          ]
        },
        {
          "name": "stderr",
          "output_type": "stream",
          "text": [
            "/usr/local/lib/python3.10/dist-packages/sklearn/metrics/_classification.py:1344: UndefinedMetricWarning: Precision and F-score are ill-defined and being set to 0.0 in labels with no predicted samples. Use `zero_division` parameter to control this behavior.\n",
            "  _warn_prf(average, modifier, msg_start, len(result))\n"
          ]
        }
      ],
      "source": [
        "from sklearn.linear_model import LogisticRegression\n",
        "from sklearn.metrics import accuracy_score, classification_report as cls_report\n",
        "\n",
        "# Initialize the Logistic Regression classifier\n",
        "logistic_regression_classifier = LogisticRegression(max_iter=1000)  # You can adjust max_iter as needed\n",
        "\n",
        "# Train the Logistic Regression classifier\n",
        "logistic_regression_classifier.fit(X_train, y_train)\n",
        "\n",
        "# Predict the sentiment for test set using Logistic Regression\n",
        "y_pred_logistic_regression = logistic_regression_classifier.predict(X_test)\n",
        "\n",
        "# Evaluate the performance of the Logistic Regression classifier\n",
        "accuracy_logistic_regression = accuracy_score(y_test, y_pred_logistic_regression)\n",
        "classification_report_logistic_regression = cls_report(y_test, y_pred_logistic_regression)\n",
        "\n",
        "# Print the evaluation results for Logistic Regression\n",
        "print(\"Logistic Regression Model Evaluation:\")\n",
        "print(\"Accuracy:\", accuracy_logistic_regression)\n",
        "print(\"\\nClassification Report:\")\n",
        "print(classification_report_logistic_regression)"
      ]
    },
    {
      "cell_type": "code",
      "execution_count": null,
      "metadata": {
        "colab": {
          "background_save": true
        },
        "id": "5icKPWWdsjPX",
        "outputId": "3fab8787-3087-46ed-8474-bc715fba9689"
      },
      "outputs": [
        {
          "name": "stdout",
          "output_type": "stream",
          "text": [
            "Classification Report - Random Forest:\n",
            "                            precision    recall  f1-score   support\n",
            "\n",
            "                     ARSON       0.24      0.20      0.22       119\n",
            "                   ASSAULT       0.46      0.35      0.40      4606\n",
            "                   BATTERY       0.76      0.81      0.79     12761\n",
            "                  BURGLARY       0.98      0.95      0.96      3758\n",
            "           CRIMINAL DAMAGE       0.95      0.94      0.95      7967\n",
            "   CRIMINAL SEXUAL ASSAULT       0.00      0.00      0.00        66\n",
            "        DECEPTIVE PRACTICE       0.45      0.60      0.51      2930\n",
            "                  HOMICIDE       0.03      0.01      0.01       115\n",
            "  INTIMIDATION or STALKING       0.00      0.00      0.00        87\n",
            "                KIDNAPPING       0.15      0.05      0.07        64\n",
            "       MOTOR VEHICLE THEFT       0.84      0.85      0.84      3478\n",
            "                 NARCOTICS       0.77      0.87      0.82      6479\n",
            "OFFENSE INVOLVING CHILDREN       0.20      0.16      0.18       468\n",
            "             OTHER OFFENSE       0.66      0.62      0.64      4583\n",
            "    PUBLIC PEACE VIOLATION       0.11      0.08      0.09       628\n",
            "                   ROBBERY       0.73      0.71      0.72      4540\n",
            "               SEX OFFENSE       0.42      0.37      0.39      1098\n",
            "                     THEFT       0.95      0.94      0.94     14655\n",
            "         WEAPONS VIOLATION       0.25      0.19      0.22       995\n",
            "\n",
            "                  accuracy                           0.78     69397\n",
            "                 macro avg       0.47      0.46      0.46     69397\n",
            "              weighted avg       0.77      0.78      0.77     69397\n",
            "\n"
          ]
        }
      ],
      "source": [
        "from sklearn.ensemble import RandomForestClassifier\n",
        "from sklearn.metrics import classification_report\n",
        "\n",
        "# Initialize Random Forest classifier\n",
        "rf_classifier = RandomForestClassifier(random_state=42)\n",
        "\n",
        "# Fit the classifier to the training data\n",
        "rf_classifier.fit(X_train, y_train)\n",
        "\n",
        "# Predict on the test data\n",
        "rf_preds = rf_classifier.predict(X_test)\n",
        "\n",
        "# Print classification report\n",
        "print(\"Classification Report - Random Forest:\")\n",
        "print(classification_report(y_test, rf_preds))\n"
      ]
    },
    {
      "cell_type": "code",
      "execution_count": null,
      "metadata": {
        "colab": {
          "background_save": true
        },
        "id": "qtDe2IcrskI6",
        "outputId": "92dc7586-5130-4368-d69a-55b340ae4f37"
      },
      "outputs": [
        {
          "ename": "NameError",
          "evalue": "name 'precision_recall_fscore_support' is not defined",
          "output_type": "error",
          "traceback": [
            "\u001b[0;31m---------------------------------------------------------------------------\u001b[0m",
            "\u001b[0;31mNameError\u001b[0m                                 Traceback (most recent call last)",
            "\u001b[0;32m<ipython-input-63-e5a1713a09f9>\u001b[0m in \u001b[0;36m<cell line: 1>\u001b[0;34m()\u001b[0m\n\u001b[0;32m----> 1\u001b[0;31m \u001b[0mprecision\u001b[0m\u001b[0;34m,\u001b[0m \u001b[0mrecall\u001b[0m\u001b[0;34m,\u001b[0m \u001b[0mf1_score\u001b[0m\u001b[0;34m,\u001b[0m \u001b[0m_\u001b[0m \u001b[0;34m=\u001b[0m \u001b[0mprecision_recall_fscore_support\u001b[0m\u001b[0;34m(\u001b[0m\u001b[0my_test\u001b[0m\u001b[0;34m,\u001b[0m \u001b[0mrf_preds\u001b[0m\u001b[0;34m,\u001b[0m \u001b[0maverage\u001b[0m\u001b[0;34m=\u001b[0m\u001b[0;34m'macro'\u001b[0m\u001b[0;34m)\u001b[0m\u001b[0;34m\u001b[0m\u001b[0;34m\u001b[0m\u001b[0m\n\u001b[0m\u001b[1;32m      2\u001b[0m \u001b[0;34m\u001b[0m\u001b[0m\n\u001b[1;32m      3\u001b[0m \u001b[0mprint\u001b[0m\u001b[0;34m(\u001b[0m\u001b[0;34mf\"Average Precision: {precision:.2f}\"\u001b[0m\u001b[0;34m)\u001b[0m\u001b[0;34m\u001b[0m\u001b[0;34m\u001b[0m\u001b[0m\n\u001b[1;32m      4\u001b[0m \u001b[0mprint\u001b[0m\u001b[0;34m(\u001b[0m\u001b[0;34mf\"Average Recall: {recall:.2f}\"\u001b[0m\u001b[0;34m)\u001b[0m\u001b[0;34m\u001b[0m\u001b[0;34m\u001b[0m\u001b[0m\n\u001b[1;32m      5\u001b[0m \u001b[0mprint\u001b[0m\u001b[0;34m(\u001b[0m\u001b[0;34mf\"Average F1 Score: {f1_score:.2f}\"\u001b[0m\u001b[0;34m)\u001b[0m\u001b[0;34m\u001b[0m\u001b[0;34m\u001b[0m\u001b[0m\n",
            "\u001b[0;31mNameError\u001b[0m: name 'precision_recall_fscore_support' is not defined"
          ]
        }
      ],
      "source": [
        "precision, recall, f1_score, _ = precision_recall_fscore_support(y_test, rf_preds, average='macro')\n",
        "\n",
        "print(f\"Average Precision: {precision:.2f}\")\n",
        "print(f\"Average Recall: {recall:.2f}\")\n",
        "print(f\"Average F1 Score: {f1_score:.2f}\")"
      ]
    },
    {
      "cell_type": "code",
      "execution_count": null,
      "metadata": {
        "colab": {
          "background_save": true
        },
        "id": "ssdCZqJcqYTv"
      },
      "outputs": [],
      "source": []
    }
  ],
  "metadata": {
    "colab": {
      "provenance": []
    },
    "kernelspec": {
      "display_name": "Python 3",
      "name": "python3"
    },
    "language_info": {
      "name": "python"
    }
  },
  "nbformat": 4,
  "nbformat_minor": 0
}